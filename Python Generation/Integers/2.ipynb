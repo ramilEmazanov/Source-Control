{
    "metadata": {
        "kernelspec": {
            "name": "python3",
            "display_name": "Python 3",
            "language": "python"
        },
        "language_info": {
            "name": "python",
            "version": "3.9.12",
            "mimetype": "text/x-python",
            "codemirror_mode": {
                "name": "ipython",
                "version": 3
            },
            "pygments_lexer": "ipython3",
            "nbconvert_exporter": "python",
            "file_extension": ".py"
        }
    },
    "nbformat_minor": 2,
    "nbformat": 4,
    "cells": [
        {
            "cell_type": "code",
            "source": [
                "#На вход программе подаётся три целых числа, каждое на отдельной строке.\n",
                "ти сумму введенных чисел.\n",
                "#\n",
                "num1 = int(input())\r\n",
                "num2 = int(input())\r\n",
                "num3 = int(input())\r\n",
                "sum = num1 + num2 + num3\r\n",
                "print(sum)"
            ],
            "metadata": {
                "azdata_cell_guid": "f2015a25-7de7-4350-ba8a-af9758b01415",
                "language": "python"
            },
            "outputs": [
                {
                    "output_type": "stream",
                    "name": "stdout",
                    "text": "6\n"
                }
            ],
            "execution_count": 10
        }
    ]
}