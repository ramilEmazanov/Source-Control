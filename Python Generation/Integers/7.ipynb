{
    "metadata": {
        "kernelspec": {
            "name": "python3",
            "display_name": "Python 3",
            "language": "python"
        },
        "language_info": {
            "name": "python",
            "version": "3.9.12",
            "mimetype": "text/x-python",
            "codemirror_mode": {
                "name": "ipython",
                "version": 3
            },
            "pygments_lexer": "ipython3",
            "nbconvert_exporter": "python",
            "file_extension": ".py"
        }
    },
    "nbformat_minor": 2,
    "nbformat": 4,
    "cells": [
        {
            "cell_type": "code",
            "source": [
                "a = int(input())\r\n",
                "b = int(input())\r\n",
                "print(a, '+' , b, '=' , a+b)\r\n",
                "print(a, '-' , b, '=' , a-b)\r\n",
                "print(a, '*' , b, '=' , a*b)"
            ],
            "metadata": {
                "azdata_cell_guid": "09fefc35-a2e2-463e-91b7-db1d0c7cc71a",
                "language": "python"
            },
            "outputs": [
                {
                    "output_type": "stream",
                    "name": "stdout",
                    "text": "3 + 1 = 4\n3 - 1 = 2\n3 * 1 = 3\n"
                }
            ],
            "execution_count": 3
        }
    ]
}