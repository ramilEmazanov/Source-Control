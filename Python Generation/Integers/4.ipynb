{
    "metadata": {
        "kernelspec": {
            "name": "python3",
            "display_name": "Python 3",
            "language": "python"
        },
        "language_info": {
            "name": "python",
            "version": "3.9.12",
            "mimetype": "text/x-python",
            "codemirror_mode": {
                "name": "ipython",
                "version": 3
            },
            "pygments_lexer": "ipython3",
            "nbconvert_exporter": "python",
            "file_extension": ".py"
        }
    },
    "nbformat_minor": 2,
    "nbformat": 4,
    "cells": [
        {
            "cell_type": "code",
            "source": [
                "a = int(input())\r\n",
                "b = int(input())\r\n",
                "sum = a + b\r\n",
                "cubed = sum**3*3\r\n",
                "bsquared = b**2*275\r\n",
                "stodva = 127*a\r\n",
                "ended = cubed + bsquared - stodva - 41\r\n",
                "print(ended)"
            ],
            "metadata": {
                "azdata_cell_guid": "d7a425dd-be02-4985-a8ed-89b0f89926f8",
                "language": "python"
            },
            "outputs": [
                {
                    "output_type": "stream",
                    "name": "stdout",
                    "text": "131\n"
                }
            ],
            "execution_count": 4
        }
    ]
}