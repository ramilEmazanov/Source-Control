{
    "metadata": {
        "kernelspec": {
            "name": "python3",
            "display_name": "Python 3 (ipykernel)",
            "language": "python"
        },
        "language_info": {
            "name": "python",
            "version": "3.9.12",
            "mimetype": "text/x-python",
            "codemirror_mode": {
                "name": "ipython",
                "version": 3
            },
            "pygments_lexer": "ipython3",
            "nbconvert_exporter": "python",
            "file_extension": ".py"
        }
    },
    "nbformat_minor": 2,
    "nbformat": 4,
    "cells": [
        {
            "cell_type": "code",
            "source": [
                "#На вход программе подаётся три целых числа: a_1a , d и n, каждое на отдельной строке.\n",
                "а вывести nn-ый член арифметической прогрессии.\n",
                "#\n",
                "a1 = int(input())\r\n",
                "d = int(input())\r\n",
                "n = int(input())\r\n",
                "print (a1 + d*(n-1))"
            ],
            "metadata": {
                "azdata_cell_guid": "c530ae92-8423-4525-bba9-44fd68338f1b",
                "language": "python",
                "tags": []
            },
            "outputs": [
                {
                    "output_type": "stream",
                    "name": "stdout",
                    "text": "10\n"
                }
            ],
            "execution_count": 3
        }
    ]
}