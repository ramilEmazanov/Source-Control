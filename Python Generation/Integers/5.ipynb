{
    "metadata": {
        "kernelspec": {
            "name": "python3",
            "display_name": "Python 3",
            "language": "python"
        },
        "language_info": {
            "name": "python",
            "version": "3.9.12",
            "mimetype": "text/x-python",
            "codemirror_mode": {
                "name": "ipython",
                "version": 3
            },
            "pygments_lexer": "ipython3",
            "nbconvert_exporter": "python",
            "file_extension": ".py"
        }
    },
    "nbformat_minor": 2,
    "nbformat": 4,
    "cells": [
        {
            "cell_type": "code",
            "source": [
                "number = int(input())\r\n",
                "numberh = number + 1\r\n",
                "numberl = number - 1 \r\n",
                "print('Следующее за числом' , number ,  'число:' , numberh)\r\n",
                "print('Для числа' , number , 'предыдущее число:' , numberl)"
            ],
            "metadata": {
                "azdata_cell_guid": "25ce3a00-53c2-48ce-85bd-cfd1eedb713b",
                "language": "python"
            },
            "outputs": [
                {
                    "output_type": "stream",
                    "name": "stdout",
                    "text": "Следующее за числом 3 число: 4\nДля числа 3 предыдущее число: 2\n"
                }
            ],
            "execution_count": 3
        }
    ]
}