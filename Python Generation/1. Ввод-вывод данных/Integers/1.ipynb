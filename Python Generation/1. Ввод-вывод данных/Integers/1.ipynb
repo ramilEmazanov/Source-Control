{
    "metadata": {
        "kernelspec": {
            "name": "python3",
            "display_name": "Python 3 (ipykernel)",
            "language": "python"
        },
        "language_info": {
            "name": "python",
            "version": "3.9.12",
            "mimetype": "text/x-python",
            "codemirror_mode": {
                "name": "ipython",
                "version": 3
            },
            "pygments_lexer": "ipython3",
            "nbconvert_exporter": "python",
            "file_extension": ".py"
        }
    },
    "nbformat_minor": 2,
    "nbformat": 4,
    "cells": [
        {
            "cell_type": "code",
            "source": [
                "#На вход программе подается одно целое число.\r\n",
                "\r\n",
                "#Программа должна вывести три последовательно идущих числа в соответствии с условием задачи.\r\n",
                "\r\n",
                "num = int(input())\r\n",
                "print(num)\r\n",
                "print(num + 1)\r\n",
                "print(num + 2)"
            ],
            "metadata": {
                "azdata_cell_guid": "6301483e-503f-437d-87a8-e8c71f77a893",
                "language": "python",
                "tags": []
            },
            "outputs": [
                {
                    "output_type": "stream",
                    "name": "stdout",
                    "text": "3\n4\n5\n"
                }
            ],
            "execution_count": 19
        }
    ]
}