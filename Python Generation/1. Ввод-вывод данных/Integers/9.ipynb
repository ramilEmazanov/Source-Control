{
    "metadata": {
        "kernelspec": {
            "name": "python3",
            "display_name": "Python 3 (ipykernel)",
            "language": "python"
        },
        "language_info": {
            "name": "python",
            "version": "3.9.12",
            "mimetype": "text/x-python",
            "codemirror_mode": {
                "name": "ipython",
                "version": 3
            },
            "pygments_lexer": "ipython3",
            "nbconvert_exporter": "python",
            "file_extension": ".py"
        }
    },
    "nbformat_minor": 2,
    "nbformat": 4,
    "cells": [
        {
            "cell_type": "code",
            "source": [
                "#Напишите программу, которая считывает целое положительное число \n",
                "#x и выводит на экран последовательность чисел x, 2x, 3x, 4x, и 5x, разделённых тремя черточками.\n",
                "\n",
                "a = int(input())\r\n",
                "print(a , 2*a , 3*a , 4*a , 5*a , sep='---')"
            ],
            "metadata": {
                "azdata_cell_guid": "ce945098-444f-4727-bbed-308bb103bba0",
                "language": "python"
            },
            "outputs": [
                {
                    "name": "stdout",
                    "text": "3---6---9---12---15\n",
                    "output_type": "stream"
                }
            ],
            "execution_count": 1
        }
    ]
}