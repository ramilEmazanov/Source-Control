{
    "metadata": {
        "kernelspec": {
            "name": "python3",
            "display_name": "Python 3",
            "language": "python"
        },
        "language_info": {
            "name": "python",
            "version": "3.9.12",
            "mimetype": "text/x-python",
            "codemirror_mode": {
                "name": "ipython",
                "version": 3
            },
            "pygments_lexer": "ipython3",
            "nbconvert_exporter": "python",
            "file_extension": ".py"
        }
    },
    "nbformat_minor": 2,
    "nbformat": 4,
    "cells": [
        {
            "cell_type": "code",
            "source": [
                "#Напишите программу, вычисляющую объём куба и площадь его полной поверхности, по введённому значению длины ребра.\n",
                "\n",
                "length = int(input())\r\n",
                "volume = length**3\r\n",
                "area = 6*length**2\r\n",
                "print ('Объем =' , volume)\r\n",
                "print ('Площадь полной поверхности =' , area)"
            ],
            "metadata": {
                "azdata_cell_guid": "78013dff-cb86-49c4-a0a1-b2c8ed9dc151",
                "language": "python"
            },
            "outputs": [
                {
                    "output_type": "stream",
                    "name": "stdout",
                    "text": "Объем = 15625\nПлощадь полной поверхности = 3750\n"
                }
            ],
            "execution_count": 8
        }
    ]
}