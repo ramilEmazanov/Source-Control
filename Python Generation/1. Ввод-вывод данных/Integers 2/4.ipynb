{
    "metadata": {
        "kernelspec": {
            "name": "python3",
            "display_name": "Python 3 (ipykernel)",
            "language": "python"
        },
        "language_info": {
            "name": "python",
            "version": "3.9.12",
            "mimetype": "text/x-python",
            "codemirror_mode": {
                "name": "ipython",
                "version": 3
            },
            "pygments_lexer": "ipython3",
            "nbconvert_exporter": "python",
            "file_extension": ".py"
        }
    },
    "nbformat_minor": 2,
    "nbformat": 4,
    "cells": [
        {
            "cell_type": "code",
            "source": [
                "#Безумный титан Танос собрал все 6 камней бесконечности и намеревается уничтожить половину населения Вселенной по щелчку пальцев. \n",
                "#При этом если население Вселенной является нечетным числом, то титан проявит милосердие \n",
                "#и округлит количество выживших в большую сторону. Помогите Мстителям подсчитать количество выживших.\n",
                "\n",
                "num = int(input())\n",
                "num2 = num % 2\n",
                "print(num // 2 + num2)guageoutputs"
            ],
            "metadata": {
                "azdata_cell_guid": "9453659a-d088-42f3-8585-96cd6032883f",
                "language": "python"
            },
            "outputs": [],
            "execution_count": null
        }
    ]
}