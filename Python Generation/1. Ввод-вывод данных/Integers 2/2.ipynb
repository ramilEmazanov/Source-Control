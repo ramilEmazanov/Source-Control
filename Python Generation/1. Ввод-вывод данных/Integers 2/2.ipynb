{
    "metadata": {
        "kernelspec": {
            "name": "python3",
            "display_name": "Python 3 (ipykernel)",
            "language": "python"
        },
        "language_info": {
            "name": "python",
            "version": "3.9.12",
            "mimetype": "text/x-python",
            "codemirror_mode": {
                "name": "ipython",
                "version": 3
            },
            "pygments_lexer": "ipython3",
            "nbconvert_exporter": "python",
            "file_extension": ".py"
        }
    },
    "nbformat_minor": 2,
    "nbformat": 4,
    "cells": [
        {
            "cell_type": "code",
            "source": [
                "#Напишите программу, которая находит полное число метров по заданному числу сантиметров.\n",
                "\n",
                "meters = int(input())\n",
                "cantimeters = meters // 100\n",
                "print(cantimeters)guageoutputs"
            ],
            "metadata": {
                "azdata_cell_guid": "feb50e22-7438-4e5a-a22f-7cda4d57b07c",
                "language": "python"
            },
            "outputs": [],
            "execution_count": null
        }
    ]
}