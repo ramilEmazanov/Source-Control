{
    "metadata": {
        "kernelspec": {
            "name": "python3",
            "display_name": "Python 3 (ipykernel)",
            "language": "python"
        },
        "language_info": {
            "name": "python",
            "version": "3.9.12",
            "mimetype": "text/x-python",
            "codemirror_mode": {
                "name": "ipython",
                "version": 3
            },
            "pygments_lexer": "ipython3",
            "nbconvert_exporter": "python",
            "file_extension": ".py"
        }
    },
    "nbformat_minor": 2,
    "nbformat": 4,
    "cells": [
        {
            "cell_type": "code",
            "source": [
                "#Напишите программу для пересчёта величины временного интервала, заданного в минутах, в величину, выраженную в часах и минутах.\n",
                "\n",
                "n = int(input())\r\n",
                "n1 = n // 60\r\n",
                "n2 = n - n1*60\r\n",
                "print(n , 'мин - это' , n1 , 'час' , n2 , 'минут.')\r\n",
                ""
            ],
            "metadata": {
                "azdata_cell_guid": "1c4cc315-2b48-46d2-8e34-08d3d421e96f",
                "language": "python"
            },
            "outputs": [
{
    "name": "stdout",
    "text": "50 мин - это 0 час 50 минут\n",
    "output_type": "stream"
}
],
            "execution_count": 5
        }
    ]
}