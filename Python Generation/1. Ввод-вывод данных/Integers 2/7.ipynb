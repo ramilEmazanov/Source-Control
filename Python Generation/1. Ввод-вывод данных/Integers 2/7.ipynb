{
    "metadata": {
        "kernelspec": {
            "name": "python3",
            "display_name": "Python 3 (ipykernel)",
            "language": "python"
        },
        "language_info": {
            "name": "python",
            "version": "3.9.12",
            "mimetype": "text/x-python",
            "codemirror_mode": {
                "name": "ipython",
                "version": 3
            },
            "pygments_lexer": "ipython3",
            "nbconvert_exporter": "python",
            "file_extension": ".py"
        }
    },
    "nbformat_minor": 2,
    "nbformat": 4,
    "cells": [
        {
            "cell_type": "code",
            "source": [
                "#Напишите программу, в которой рассчитывается сумма и произведение цифр положительного трёхзначного числа.\r\n",
                "\r\n",
                "n = int(input())\r\n",
                "n1 = n // 100\r\n",
                "n2 = n // 10 % 10\r\n",
                "n3 = n % 10\r\n",
                "print('Сумма цифр =' , n1+n2+n3 )\r\n",
                "print('Произведение цифр =' , n1*n2*n3)"
            ],
            "metadata": {
                "azdata_cell_guid": "f8269293-268e-4183-8d61-65686eaf7ffe",
                "language": "python"
            },
            "outputs": [],
            "execution_count": null
        }
    ]
}