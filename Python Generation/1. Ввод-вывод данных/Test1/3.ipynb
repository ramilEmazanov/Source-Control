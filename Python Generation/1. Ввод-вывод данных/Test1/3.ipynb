{
    "metadata": {
        "kernelspec": {
            "name": "python3",
            "display_name": "Python 3 (ipykernel)",
            "language": "python"
        },
        "language_info": {
            "name": "python",
            "version": "3.9.12",
            "mimetype": "text/x-python",
            "codemirror_mode": {
                "name": "ipython",
                "version": 3
            },
            "pygments_lexer": "ipython3",
            "nbconvert_exporter": "python",
            "file_extension": ".py"
        }
    },
    "nbformat_minor": 2,
    "nbformat": 4,
    "cells": [
        {
            "cell_type": "code",
            "source": [
                "a = int(input())\r\n",
                "b = int(input())\r\n",
                "c = int(input())\r\n",
                "d = int(input())\r\n",
                "print(a**b+c**d)"
            ],
            "metadata": {
                "azdata_cell_guid": "2936e600-0ed7-4c81-832b-961558444697",
                "language": "python"
            },
            "outputs": [],
            "execution_count": null
        }
    ]
}