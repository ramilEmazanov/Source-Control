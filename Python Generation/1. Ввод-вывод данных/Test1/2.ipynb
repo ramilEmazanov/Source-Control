{
    "metadata": {
        "kernelspec": {
            "name": "python3",
            "display_name": "Python 3 (ipykernel)",
            "language": "python"
        },
        "language_info": {
            "name": "python",
            "version": "3.9.12",
            "mimetype": "text/x-python",
            "codemirror_mode": {
                "name": "ipython",
                "version": 3
            },
            "pygments_lexer": "ipython3",
            "nbconvert_exporter": "python",
            "file_extension": ".py"
        }tputnin1 = int(input())\n",
                "n2 = int(input())\n",
                "print('Квадрат суммы' , n1 ,'и', n2, 'равен' , (n1+n2)**2)\n",
                "print('Сумма квадратов' , n1 ,'и', n2, 'равна' , n1**2+n2**2)\n",
                "
        {
            "cell_type": "code",
            "source": [
                "a = int(input())\r\n",
                "b = int(input())\r\n",
                "c = int(input())\r\n",
                "d = int(input())\r\n",
                "print(a**b+c**d)"
            ],
            "metadata": {
                "azdata_cell_guid": "0fa71e85-6925-4b1a-a1d5-ab6a2a5e8664",
                "language": "python"
            },
            "outputs": [
{
    "name": "stdout",
    "text": "4710194409608608369201743232\n",
    "output_type": "stream"
}
],
            "execution_count": 10
        }
    ]
}