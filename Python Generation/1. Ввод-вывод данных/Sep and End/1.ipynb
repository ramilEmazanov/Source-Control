{
    "metadata": {
        "kernelspec": {
            "name": "python3",
            "display_name": "Python 3 (ipykernel)",
            "language": "python"
        },
        "language_info": {
            "name": "python",
            "version": "3.9.12",
            "mimetype": "text/x-python",
            "codemirror_mode": {
                "name": "ipython",
                "version": 3
            },
            "pygments_lexer": "ipython3",
            "nbconvert_exporter": "python",
            "file_extension": ".py"
        }
    },
    "nbformat_minor": 2,
    "nbformat": 4,
    "cells": [
        {
            "cell_type": "code",
            "source": [
                "#Напишите программу, которая выводит на экран текст «I***like***Python» (без кавычек).\n",
                "\n",
                "print ('I','like','Python', sep='***')"
            ],
            "metadata": {
                "azdata_cell_guid": "642fe10f-2082-436f-b3c0-8a39943d0e70",
                "language": "python"
            },
            "outputs": [
{
    "name": "stdout",
    "text": "I***like***Python\n",
    "output_type": "stream"
}
],
            "execution_count": 3
        }
    ]
}