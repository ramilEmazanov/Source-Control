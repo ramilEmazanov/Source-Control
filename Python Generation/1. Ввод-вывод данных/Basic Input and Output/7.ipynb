{
    "metadata": {
        "kernelspec": {
            "name": "python3",
            "display_name": "Python 3 (ipykernel)",
            "language": "python"
        },
        "language_info": {
            "name": "python",
            "version": "3.9.12",
            "mimetype": "text/x-python",
            "codemirror_mode": {
                "name": "ipython",
                "version": 3
            },
            "pygments_lexer": "ipython3",
            "nbconvert_exporter": "python",
            "file_extension": ".py"
        }
    },
    "nbformat_minor": 2,
    "nbformat": 4,
    "cells": [
        {
            "cell_type": "code",
            "source": [
                "#Напишите программу, которая считывает три строки по очереди, \n",
                "#а затем выводит их в той же последовательности, каждую на отдельной строчке.\n",
                "\n",
                "name1 = input()\n",
                "print(name1)\n",
                "name2 = input()\n",
                "print(name2)\n",
                "name3 = input()\n",
                "print(name3)\n",
                ""
            ],
            "metadata": {
                "azdata_cell_guid": "060001f0-aba4-4ddd-ba18-d59ab686483f",
                "language": "python"
            },
            "outputs": [
{
    "name": "stdout",
    "text": "I was\n",
    "output_type": "stream"
}, {
    "name": "stdout",
    "text": "born\n",
    "output_type": "stream"
}, {
    "name": "stdout",
    "text": "this\n",
    "output_type": "stream"
}
],
            "execution_count": 1
        }
    ]
}