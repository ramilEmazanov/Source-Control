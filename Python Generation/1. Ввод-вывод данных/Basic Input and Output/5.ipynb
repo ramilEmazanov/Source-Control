{
    "metadata": {
        "kernelspec": {
            "name": "python3",
            "display_name": "Python 3 (ipykernel)",
            "language": "python"
        },
        "language_info": {
            "name": "python",
            "version": "3.9.12",
            "mimetype": "text/x-python",
            "codemirror_mode": {
                "name": "ipython",
                "version": 3
            },
            "pygments_lexer": "ipython3",
            "nbconvert_exporter": "python",
            "file_extension": ".py"
        }
    },
    "nbformat_minor": 2,
    "nbformat": 4,
    "cells": [
        {
            "cell_type": "code",
            "source": [
                "#Напишите программу, которая выводит на экран приветствие в виде слова «Привет» (без кавычек), \n",
                "#после которого должна стоять запятая и пробел, а затем введенное имя.\n",
                "\n",
                "name1 = input()\r\n",
                "print ('Привет,', name1)\r\n",
                "\r\n",
                ""
            ],
            "metadata": {
                "azdata_cell_guid": "ffcd0bd4-7978-41b7-aa9b-d84e59727fa1",
                "language": "python"
            },
            "outputs": [
{
    "name": "stdout",
    "text": "Привет, Гвидо\n",
    "output_type": "stream"
}
],
            "execution_count": 35
        }
    ]
}