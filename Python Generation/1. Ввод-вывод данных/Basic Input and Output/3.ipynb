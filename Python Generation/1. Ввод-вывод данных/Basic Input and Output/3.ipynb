{
    "metadata": {
        "kernelspec": {
            "name": "python3",
            "display_name": "Python 3 (ipykernel)",
            "language": "python"
        },
        "language_info": {
            "name": "python",
            "version": "3.9.12",
            "mimetype": "text/x-python",
            "codemirror_mode": {
                "name": "ipython",
                "version": 3
            },
            "pygments_lexer": "ipython3",
            "nbconvert_exporter": "python",
            "file_extension": ".py"
        }
    },
    "nbformat_minor": 2,
    "nbformat": 4,
    "cells": [
        {
            "cell_type": "code",
            "source": [
                "#Измените предыдущую программу так, чтобы каждое число последовательности 4 8 15 16 23 42 печаталось на отдельной строке.\n",
                "\n",
                "print ('4')\r\n",
                "print ('8')\r\n",
                "print ('15')\r\n",
                "print ('16')\r\n",
                "print ('23')\r\n",
                "print ('42')\r\n",
                ""
            ],
            "metadata": {
                "azdata_cell_guid": "4725ed47-e800-4216-995d-f292245b50bc",
                "language": "python"
            },
            "outputs": [
{
    "name": "stdout",
    "text": "4\n8\n15\n16\n23\n42\n",
    "output_type": "stream"
}
],
            "execution_count": 1
        }
    ]
}