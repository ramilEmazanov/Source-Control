{
    "metadata": {
        "kernelspec": {
            "name": "python3",
            "display_name": "Python 3 (ipykernel)",
            "language": "python"
        },
        "language_info": {
            "name": "python",
            "version": "3.9.12",
            "mimetype": "text/x-python",
            "codemirror_mode": {
                "name": "ipython",
                "version": 3
            },
            "pygments_lexer": "ipython3",
            "nbconvert_exporter": "python",
            "file_extension": ".py"
        }
    },
    "nbformat_minor": 2,
    "nbformat": 4,
    "cells": [
        {
            "cell_type": "code",
            "source": [
                "#Напишите программу, которая считывает строку-разделитель и три строки, а затем выводит указанные строки через разделитель.\n",
                "\n",
                "q = input()\r\n",
                "a = input()\r\n",
                "b = input()\r\n",
                "c = input()\r\n",
                "print( a, b, c, sep=q)"
            ],
            "metadata": {
                "azdata_cell_guid": "037ca6de-9f0e-4b21-b33c-8a372ad117f1",
                "language": "python"
            },
            "outputs": [
{
    "name": "stdout",
    "text": "1.2.3\n",
    "output_type": "stream"
}
],
            "execution_count": 19
        }
    ]
}