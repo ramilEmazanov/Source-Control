{
    "metadata": {
        "kernelspec": {
            "name": "python3",
            "display_name": "Python 3 (ipykernel)",
            "language": "python"
        },
        "language_info": {
            "name": "python",
            "version": "3.9.12",
            "mimetype": "text/x-python",
            "codemirror_mode": {
                "name": "ipython",
                "version": 3
            },
            "pygments_lexer": "ipython3",
            "nbconvert_exporter": "python",
            "file_extension": ".py"
        }
    },
    "nbformat_minor": 2,
    "nbformat": 4,
    "cells": [
        {
            "cell_type": "code",
            "source": [
                "a = input()\r\n",
                "print('Привет,' , a, end='!')"
            ],
            "metadata": {
                "azdata_cell_guid": "55d14a87-9777-4a6c-8b59-52d865e2230f",
                "language": "python"
            },
            "outputs": [
{
    "name": "stdout",
    "text": "Привет, fsd!",
    "output_type": "stream"
}
],
            "execution_count": 10
        }
    ]
}