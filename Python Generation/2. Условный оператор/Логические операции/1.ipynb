{
    "metadata": {
        "kernelspec": {
            "name": "python3",
            "display_name": "Python 3 (ipykernel)",
            "language": "python"
        },
        "language_info": {
            "name": "python",
            "version": "3.9.12",
            "mimetype": "text/x-python",
            "codemirror_mode": {
                "name": "ipython",
                "version": 3
            },
            "pygments_lexer": "ipython3",
            "nbconvert_exporter": "python",
            "file_extension": ".py"
        }
    },
    "nbformat_minor": 2,
    "nbformat": 4,
    "cells": [
        {
            "cell_type": "code",
            "source": [
                "#Напишите программу, которая принимает целое число xx и определяет, принадлежит ли данное число указанному промежутку. \r\n",
                "\r\n",
                "n = int(input())\r\n",
                "if -1 < n < 17:\r\n",
                "    print('Принадлежит')\r\n",
                "else:\r\n",
                "    print('Не принадлежит')"
            ],
            "metadata": {
                "azdata_cell_guid": "e7da8115-3d50-4cb8-96c7-d6f03daa4cbc",
                "language": "python"
            },
            "outputs": [
{
    "name": "stdout",
    "text": "Не принадлежит\n",
    "output_type": "stream"
}
],
            "execution_count": 3
        }
    ]
}