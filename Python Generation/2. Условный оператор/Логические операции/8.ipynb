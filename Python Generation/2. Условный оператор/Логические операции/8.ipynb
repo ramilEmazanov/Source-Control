{
    "metadata": {
        "kernelspec": {
            "name": "python3",
            "display_name": "Python 3 (ipykernel)",
            "language": "python"
        },
        "language_info": {
            "name": "python",
            "version": "3.9.12",
            "mimetype": "text/x-python",
            "codemirror_mode": {
                "name": "ipython",
                "version": 3
            },
            "pygments_lexer": "ipython3",
            "nbconvert_exporter": "python",
            "file_extension": ".py"
        }
    },
    "nbformat_minor": 2,
    "nbformat": 4,
    "cells": [
        {
            "cell_type": "code",
            "source": [
                "#Даны две различные клетки шахматной доски. Напишите программу,  которая определяет, может ли король попасть с первой клетки на вторую одним ходом. Программа получает на вход четыре числа от 1 до 8 каждое, \r\n",
                "#задающие номер столбца и номер строки сначала для первой клетки, потом для второй клетки. \r\n",
                "#Программа должна вывести «YES», если из первой клетки ходом короля можно попасть во вторую, или «NO» в противном случае.\r\n",
                "\r\n",
                "n1 , n2 , n3 , n4 = int(input()) , int(input()) , int(input()) , int(input())\r\n",
                "\r\n",
                "if (n1 - n3 == 1 or n3 - n1 == 1 or n1 == n3) and (n2 - n4 == 1 or n4 - n2 == 1 or n2 == n4)\r\n",
                "    print('YES')\r\n",
                "else:\r\n",
                "    print('NO')"
            ],
            "metadata": {
                "azdata_cell_guid": "fcc9c7c6-fd6f-460f-9f51-2f1f81f908ce",
                "language": "python"
            },
            "outputs": [
                {
                    "traceback": [
                        "\u001b[1;31m---------------------------------------------------------------------------\u001b[0m",
                        "\u001b[1;31mValueError\u001b[0m                                Traceback (most recent call last)",
                        "Input \u001b[1;32mIn [16]\u001b[0m, in \u001b[0;36m<cell line: 5>\u001b[1;34m()\u001b[0m\n\u001b[0;32m      1\u001b[0m \u001b[38;5;66;03m#Даны две различные клетки шахматной доски. Напишите программу,  которая определяет, может ли король попасть с первой клетки на вторую одним ходом. Программа получает на вход четыре числа от 1 до 8 каждое, \u001b[39;00m\n\u001b[0;32m      2\u001b[0m \u001b[38;5;66;03m#задающие номер столбца и номер строки сначала для первой клетки, потом для второй клетки. \u001b[39;00m\n\u001b[0;32m      3\u001b[0m \u001b[38;5;66;03m#Программа должна вывести «YES», если из первой клетки ходом короля можно попасть во вторую, или «NO» в противном случае.\u001b[39;00m\n\u001b[1;32m----> 5\u001b[0m n1 , n2 , n3 , n4 \u001b[38;5;241m=\u001b[39m \u001b[38;5;28;43mint\u001b[39;49m\u001b[43m(\u001b[49m\u001b[38;5;28;43minput\u001b[39;49m\u001b[43m(\u001b[49m\u001b[43m)\u001b[49m\u001b[43m)\u001b[49m , \u001b[38;5;28mint\u001b[39m(\u001b[38;5;28minput\u001b[39m()) , \u001b[38;5;28mint\u001b[39m(\u001b[38;5;28minput\u001b[39m()) , \u001b[38;5;28mint\u001b[39m(\u001b[38;5;28minput\u001b[39m())\n\u001b[0;32m      7\u001b[0m \u001b[38;5;28;01mif\u001b[39;00m (\u001b[38;5;241m-\u001b[39m\u001b[38;5;241m1\u001b[39m \u001b[38;5;241m>\u001b[39m\u001b[38;5;241m=\u001b[39m n1 \u001b[38;5;241m-\u001b[39m n3 \u001b[38;5;241m<\u001b[39m\u001b[38;5;241m=\u001b[39m \u001b[38;5;241m1\u001b[39m \u001b[38;5;129;01mor\u001b[39;00m n1 \u001b[38;5;241m==\u001b[39m n3) \u001b[38;5;129;01mand\u001b[39;00m (n2 \u001b[38;5;241m-\u001b[39m n4 \u001b[38;5;241m==\u001b[39m \u001b[38;5;241m1\u001b[39m \u001b[38;5;129;01mor\u001b[39;00m n4 \u001b[38;5;241m-\u001b[39m n2 \u001b[38;5;241m==\u001b[39m \u001b[38;5;241m1\u001b[39m \u001b[38;5;129;01mor\u001b[39;00m n4 \u001b[38;5;241m==\u001b[39m n2):\n\u001b[0;32m      8\u001b[0m     \u001b[38;5;28mprint\u001b[39m(\u001b[38;5;124m'\u001b[39m\u001b[38;5;124mYES\u001b[39m\u001b[38;5;124m'\u001b[39m)\n",
                        "\u001b[1;31mValueError\u001b[0m: invalid literal for int() with base 10: ''"
                    ],
                    "ename": "ValueError",
                    "evalue": "invalid literal for int() with base 10: ''",
                    "output_type": "error"
                }
            ],
            "execution_count": 16
        }
    ]
}