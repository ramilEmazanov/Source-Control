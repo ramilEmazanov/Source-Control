{
    "metadata": {
        "kernelspec": {
            "name": "python3",
            "display_name": "Python 3 (ipykernel)",
            "language": "python"
        },
        "language_info": {
            "name": "python",
            "version": "3.9.12",
            "mimetype": "text/x-python",
            "codemirror_mode": {
                "name": "ipython",
                "version": 3
            },
            "pygments_lexer": "ipython3",
            "nbconvert_exporter": "python",
            "file_extension": ".py"
        }
    },
    "nbformat_minor": 2,
    "nbformat": 4,
    "cells": [
        {
            "cell_type": "code",
            "source": [
                "n = int(input())\r\n",
                "n2 = n / 1000\r\n",
                "if n2 >= 1 and n2 < 10 and (n % 17 == 0 or n % 7 == 0):\r\n",
                "    print('YES')\r\n",
                "else:\r\n",
                "    print('NO')\r\n",
                ""
            ],
            "metadata": {
                "azdata_cell_guid": "c108be54-9bd5-40a9-bfc1-39a2f32e0016",
                "language": "python"
            },
            "outputs": [],
            "execution_count": null
        }
    ]
}