{
    "metadata": {
        "kernelspec": {
            "name": "python3",
            "display_name": "Python 3 (ipykernel)",
            "language": "python"
        },
        "language_info": {
            "name": "python",
            "version": "3.9.12",
            "mimetype": "text/x-python",
            "codemirror_mode": {
                "name": "ipython",
                "version": 3
            },
            "pygments_lexer": "ipython3",
            "nbconvert_exporter": "python",
            "file_extension": ".py"
        }
    },
    "nbformat_minor": 2,
    "nbformat": 4,
    "cells": [
        {
            "cell_type": "code",
            "source": [
                "#Напишите программу, которая определяет, является ли заданное натуральное число трёхзначным.\r\n",
                "\r\n",
                "\r\n",
                "n = int(input())\r\n",
                "n2 = n / 100\r\n",
                "if n2 >= 1 and n2 < 10:\r\n",
                "    print('Число является трёхзначным')\r\n",
                "else: \r\n",
                "    print('Число не является трёхзначным')"
            ],
            "metadata": {
                "azdata_cell_guid": "0bbc8813-7371-49f7-bda6-d9d9692819f9",
                "language": "python"
            },
            "outputs": [
{
    "name": "stdout",
    "text": "Число не является трёхзначным\n",
    "output_type": "stream"
}
],
            "execution_count": 26
        },
        {
            "cell_type": "code",
            "source": [
                "#Напишите программу, которая проверяет, что все три цифры натурального трёхзначного числа различны.\r\n",
                "\r\n",
                "n = int(input())\r\n",
                "n2 = n // 100 % 10\r\n",
                "n3 = n // 10 % 10\r\n",
                "n4 = n % 10\r\n",
                "if n2 != n3 and n3 != n4 and n4 != n2:\r\n",
                "    print('razlichni')\r\n",
                "else:\r\n",
                "    print('nerazlicnhni')\r\n",
                "print(n2 , n3 , n4 , n)"
            ],
            "metadata": {
                "azdata_cell_guid": "8814b89e-429c-4ae4-872a-2da7e903024b",
                "language": "python"
            },
            "outputs": [
                {
                    "name": "stdout",
                    "text": "nerazlicnhni\n2 1 2 212\n",
                    "output_type": "stream"
                }
            ],
            "execution_count": 12
        },
        {
            "cell_type": "code",
            "source": [
                "#Напишите программу, которая по координатам точки, не лежащей на осях координат, \r\n",
                "#определяет номер координатной четверти, в которой она находится.\r\n",
                "\r\n",
                "x = int(input())\r\n",
                "y = int(input())\r\n",
                "\r\n",
                "if x == 0 or y == 0:\r\n",
                "    print('oshibka')\r\n",
                "\r\n",
                "if x < 0 and y > 0:\r\n",
                "    print('2 chetvert')\r\n",
                "if x > 0 and y > 0:\r\n",
                "    print('1 chetvert')\r\n",
                "if x < 0 and y < 0:\r\n",
                "    print('3 chetvert')\r\n",
                "if x > 0 and y < 0:\r\n",
                "    print('4 chetvert')"
            ],
            "metadata": {
                "azdata_cell_guid": "1defbe56-09c7-4883-b66a-64aa179e53d7",
                "language": "python"
            },
            "outputs": [
                {
                    "name": "stdout",
                    "text": "2 chetvert\n",
                    "output_type": "stream"
                }
            ],
            "execution_count": 19
        }
    ]
}