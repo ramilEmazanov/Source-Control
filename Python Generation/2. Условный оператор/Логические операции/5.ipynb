{
    "metadata": {
        "kernelspec": {
            "name": "python3",
            "display_name": "Python 3 (ipykernel)",
            "language": "python"
        },
        "language_info": {
            "name": "python",
            "version": "3.9.12",
            "mimetype": "text/x-python",
            "codemirror_mode": {
                "name": "ipython",
                "version": 3
            },
            "pygments_lexer": "ipython3",
            "nbconvert_exporter": "python",
            "file_extension": ".py"
        }
    },
    "nbformat_minor": 2,
    "nbformat": 4,
    "cells": [
        {
            "cell_type": "code",
            "source": [
                "#Напишите программу, которая принимает \r\n",
                "#три положительных числа и определяет, существует ли невырожденный треугольник с такими сторонами.\r\n",
                "\r\n",
                "n1 , n2 , n3 = int(input()) , int(input()) , int(input())\r\n",
                "if n1 > 0 and n2 > 0 and n3 > 0:\r\n",
                "    print('')\r\n",
                "else:\r\n",
                "    print('net')\r\n",
                "\r\n",
                "if n1 + n2 > n3 and n2 + n3 > n1 and  n1+ n3 > n2:\r\n",
                "    print('YES')\r\n",
                "else: \r\n",
                "    print('NO')"
            ],
            "metadata": {
                "azdata_cell_guid": "4c3b160a-e933-425a-a504-dba48964d537",
                "language": "python"
            },
            "outputs": [
{
    "name": "stdout",
    "text": "\nNO\n",
    "output_type": "stream"
}
],
            "execution_count": 13
        }
    ]
}