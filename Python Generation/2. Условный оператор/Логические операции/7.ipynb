{
    "metadata": {
        "kernelspec": {
            "name": "python3",
            "display_name": "Python 3 (ipykernel)",
            "language": "python"
        },
        "language_info": {
            "name": "python",
            "version": "3.9.12",
            "mimetype": "text/x-python",
            "codemirror_mode": {
                "name": "ipython",
                "version": 3
            },
            "pygments_lexer": "ipython3",
            "nbconvert_exporter": "python",
            "file_extension": ".py"
        }
    },
    "nbformat_minor": 2,
    "nbformat": 4,
    "cells": [
        {
            "cell_type": "code",
            "source": [
                "#Даны две различные клетки шахматной доски. Напишите программу, которая определяет, может ли ладья попасть с первой клетки на вторую одним ходом. \r\n",
                "#Программа получает на вход четыре числа от 1 до 8 каждое, задающие номер столбца и номер строки сначала для первой клетки, потом для второй клетки. \r\n",
                "#Программа должна вывести «YES», если из первой клетки ходом ладьи можно попасть во вторую, или «NO» в противном случае.\r\n",
                "\r\n",
                "n1 , n2 , n3 , n4 = int(input()) , int(input()) , int(input()) , int(input())\r\n",
                "\r\n",
                "if n1 == n3 or n2 == n4:\r\n",
                "    print('YES')\r\n",
                "else:\r\n",
                "    print('NO')"
            ],
            "metadata": {
                "azdata_cell_guid": "5652370a-55ba-4ec9-a653-52b666d98a6f",
                "language": "python"
            },
            "outputs": [
{
    "name": "stdout",
    "text": "YES\n",
    "output_type": "stream"
}
],
            "execution_count": 4
        }
    ]
}