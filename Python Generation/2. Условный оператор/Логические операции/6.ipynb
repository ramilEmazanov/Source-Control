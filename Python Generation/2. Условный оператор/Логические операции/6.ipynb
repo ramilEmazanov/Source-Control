{
    "metadata": {
        "kernelspec": {
            "name": "python3",
            "display_name": "Python 3 (ipykernel)",
            "language": "python"
        },
        "language_info": {
            "name": "python",
            "version": "3.9.12",
            "mimetype": "text/x-python",
            "codemirror_mode": {
                "name": "ipython",
                "version": 3
            },
            "pygments_lexer": "ipython3",
            "nbconvert_exporter": "python",
            "file_extension": ".py"
        }
    },
    "nbformat_minor": 2,
    "nbformat": 4,
    "cells": [
        {
            "cell_type": "code",
            "source": [
                "#Напишите программу, которая определяет, является ли год с данным номером високосным. \r\n",
                "#Если год является високосным, то выведите «YES», иначе выведите «NO».\r\n",
                "\r\n",
                "#Год является високосным, если его номер кратен 4, но не кратен 100, или если он кратен 400.\r\n",
                "\r\n",
                "year = int(input())\r\n",
                "if (year % 4 == 0 and year % 100 != 0) or year % 400 == 0:\r\n",
                "    print('YES')\r\n",
                "else: \r\n",
                "    print('NO')"
            ],
            "metadata": {
                "azdata_cell_guid": "7defb890-8c4f-4a64-9727-98fec25ff189",
                "language": "python"
            },
            "outputs": [
{
    "name": "stdout",
    "text": "NO\n",
    "output_type": "stream"
}
],
            "execution_count": 6
        }
    ]
}