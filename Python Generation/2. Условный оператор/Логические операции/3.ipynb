{
    "metadata": {
        "kernelspec": {
            "name": "python3",
            "display_name": "Python 3 (ipykernel)",
            "language": "python"
        },
        "language_info": {
            "name": "python",
            "version": "3.9.12",
            "mimetype": "text/x-python",
            "codemirror_mode": {
                "name": "ipython",
                "version": 3
            },
            "pygments_lexer": "ipython3",
            "nbconvert_exporter": "python",
            "file_extension": ".py"
        }
    },
    "nbformat_minor": 2,
    "nbformat": 4,
    "cells": [
        {
            "cell_type": "code",
            "source": [
                "n = int(input())\r\n",
                "if -30 < n <= -2 or 7 < n <= 25:\r\n",
                "    print('Принадлежит')\r\n",
                "else:\r\n",
                "    print('Не принадлежит')\r\n",
                ""
            ],
            "metadata": {
                "azdata_cell_guid": "a13e831b-c2b8-4c95-924f-e33d4b61f082",
                "language": "python"
            },
            "outputs": [],
            "execution_count": null
        }
    ]
}