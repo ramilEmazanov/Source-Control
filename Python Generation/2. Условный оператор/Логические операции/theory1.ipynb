{
    "metadata": {
        "kernelspec": {
            "name": "python3",
            "display_name": "Python 3 (ipykernel)",
            "language": "python"
        },
        "language_info": {
            "name": "python",
            "version": "3.9.12",
            "mimetype": "text/x-python",
            "codemirror_mode": {
                "name": "ipython",
                "version": 3
            },
            "pygments_lexer": "ipython3",
            "nbconvert_exporter": "python",
            "file_extension": ".py"
        }
    },
    "nbformat_minor": 2,
    "nbformat": 4,
    "cells": [
        {
            "cell_type": "code",
            "source": [
                "#Предположим, мы написали программу для учеников от двенадцати лет, которые учатся по крайней мере в 7 классе. \n",
                "#Доступ к ней тем, кто младше, надо запретить. Следующий код решает поставленную задачу:\n",
                "\n",
                "age = int(input('Сколько вам лет?: '))\r\n",
                "grade = int(input('В каком классе вы учитесь?: '))\r\n",
                "if age >= 12 and grade >= 7:\r\n",
                "    print('Доступ разрешен.')\r\n",
                "else:\r\n",
                "    print('Доступ запрещен.')"
            ],
            "metadata": {
                "azdata_cell_guid": "dad62793-613a-4164-bf87-b3c2fadbd151",
                "language": "python"
            },
            "outputs": [],
            "execution_count": null
        },
        {
            "cell_type": "code",
            "source": [
                "age = int(input('Сколько вам лет?: '))\r\n",
                "grade = int(input('В каком классе вы учитесь?: '))\r\n",
                "city = input('В каком городе вы живете?: ')\r\n",
                "if age >= 12 and grade >= 7 and city == 'Москва':\r\n",
                "    print('Доступ разрешен.')\r\n",
                "else:\r\n",
                "    print('Доступ запрещен.')"
            ],
            "metadata": {
                "azdata_cell_guid": "267175f0-8c50-49a0-bd32-17d8ed9303ac",
                "language": "python"
            },
            "outputs": [],
            "execution_count": null
        },
        {
            "cell_type": "code",
            "source": [
                "#Доступ будет разрешен в случае, если хотя бы одно из условий выполнится.\n",
                "\n",
                "city = input('В каком городе вы живете?: ')\r\n",
                "if city == 'Москва' or city == 'Санкт-Петербург' or city == 'Екатеринбург':\r\n",
                "    print('Доступ разрешен.')\r\n",
                "else:\r\n",
                "    print('Доступ запрещен.')"
            ],
            "metadata": {
                "azdata_cell_guid": "35f8650a-04f9-4a8f-a165-7b33097ddbea",
                "language": "python"
            },
            "outputs": [
                {
                    "output_type": "stream",
                    "name": "stdout",
                    "text": "Доступ запрещен.\n"
                }
            ],
            "execution_count": null
        },
        {
            "cell_type": "code",
            "source": [
                "#Такой код проверяет, что возраст учеников от двенадцати лет и \n",
                "#учатся они по крайней мере в 7 классе и живут в Москве или Санкт-Петербурге.\n",
                "\n",
                "age = int(input('Сколько вам лет?: '))\r\n",
                "grade = int(input('В каком классе вы учитесь?: '))\r\n",
                "city = input('В каком городе вы живете?: ')\r\n",
                "if age >= 12 and grade >= 7 and (city == 'Москва' or city == 'Санкт-Петербург'):\r\n",
                "    print('Доступ разрешен.')\r\n",
                "else:\r\n",
                "    print('Доступ запрещен.')"
            ],
            "metadata": {
                "azdata_cell_guid": "fdfdf725-8588-4156-8157-e1ddf99977f2",
                "language": "python"
            },
            "outputs": [],
            "execution_count": null
        },
        {
            "cell_type": "code",
            "source": [
                ""
            ],
            "metadata": {
                "azdata_cell_guid": "d4a34f17-f2d7-4570-bba9-ecf6b52906fa",
                "language": "python"
            },
            "outputs": [],
            "execution_count": null
        }
    ]
}