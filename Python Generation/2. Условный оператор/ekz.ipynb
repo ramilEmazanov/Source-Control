{
    "metadata": {
        "kernelspec": {
            "name": "python3",
            "display_name": "Python 3 (ipykernel)",
            "language": "python"
        },
        "language_info": {
            "name": "python",
            "version": "3.9.12",
            "mimetype": "text/x-python",
            "codemirror_mode": {
                "name": "ipython",
                "version": 3
            },
            "pygments_lexer": "ipython3",
            "nbconvert_exporter": "python",
            "file_extension": ".py"
        }
    },
    "nbformat_minor": 2,
    "nbformat": 4,
    "cells": [
        {
            "cell_type": "code",
            "source": [
                "year = int(input())\r\n",
                "if year % 100 == 00:\r\n",
                "    print('YES')\r\n",
                "else:\r\n",
                "    print('NO')"
            ],
            "metadata": {
                "azdata_cell_guid": "f9c1edcf-91df-4158-bf6c-b88060862a4a",
                "language": "python"
            },
            "outputs": [
                {
                    "name": "stdout",
                    "text": "YES\n",
                    "output_type": "stream"
                }
            ],
            "execution_count": 4
        },
        {
            "cell_type": "code",
            "source": [
                "a1 , a2 = int(input()) , int(input())\r\n",
                "b1 , b2 = int(input()) , int(input())\r\n",
                "\r\n",
                "a3 = a1 + a2\r\n",
                "b3 = b1 + b2\r\n",
                "\r\n",
                "if (a3 % 2 == b3 % 2 ):\r\n",
                "    print('YES')\r\n",
                "else:\r\n",
                "    print('NO')"
            ],
            "metadata": {
                "azdata_cell_guid": "177fc53c-188b-4694-9bfd-d985d0c1ef24",
                "language": "python"
            },
            "outputs": [
                {
                    "name": "stdout",
                    "text": "YES\n",
                    "output_type": "stream"
                }
            ],
            "execution_count": 18
        },
        {
            "cell_type": "code",
            "source": [
                "age = int(input())\r\n",
                "gender = input()\r\n",
                "\r\n",
                "if 10 <= age <= 15 and gender == \"f\":\r\n",
                "    print('YES')\r\n",
                "else:\r\n",
                "    print('NO')"
            ],
            "metadata": {
                "azdata_cell_guid": "4c2d6fad-683b-421c-9d79-00cac7908372",
                "language": "python"
            },
            "outputs": [],
            "execution_count": null
        },
        {
            "cell_type": "code",
            "source": [
                "n = int(input())\r\n",
                "\r\n",
                "if n == 1:\r\n",
                "    print('I')\r\n",
                "elif n == 2:\r\n",
                "    print('II')\r\n",
                "elif n == 3:\r\n",
                "    print('III')\r\n",
                "elif n == 4:\r\n",
                "    print('IV')\r\n",
                "elif n == 5:\r\n",
                "    print('V')\r\n",
                "elif n == 6:\r\n",
                "    print('VI')\r\n",
                "elif n == 7:\r\n",
                "    print('VII')\r\n",
                "elif n == 8:\r\n",
                "    print('VIII')\r\n",
                "elif n == 9:\r\n",
                "    print('IX')\r\n",
                "elif n == 10:\r\n",
                "    print('X')\r\n",
                "else:\r\n",
                "    print('ошибка')"
            ],
            "metadata": {
                "azdata_cell_guid": "0a71cc5d-4bff-4109-b428-85a3f5fcea55",
                "language": "python"
            },
            "outputs": [
                {
                    "name": "stdout",
                    "text": "VII\n",
                    "output_type": "stream"
                }
            ],
            "execution_count": 35
        },
        {
            "cell_type": "code",
            "source": [
                "n = int(input())\r\n",
                "\r\n",
                "if n % 2 != 0 or (n % 2 == 0 and 6 <= n <= 20):\r\n",
                "    print('YES')\r\n",
                "else:\r\n",
                "    print('NO')"
            ],
            "metadata": {
                "azdata_cell_guid": "a025b747-d817-49bd-9cfb-c1453a568e8a",
                "language": "python"
            },
            "outputs": [
                {
                    "name": "stdout",
                    "text": "NO\n",
                    "output_type": "stream"
                }
            ],
            "execution_count": 44
        },
        {
            "cell_type": "code",
            "source": [
                "a1 , a2 = int(input()) , int(input())\r\n",
                "b1 , b2 = int(input()) , int(input())\r\n",
                "\r\n",
                "if (abs(b1 - a1) == abs(a2 - b2)):\r\n",
                "    print('YES')\r\n",
                "else:\r\n",
                "    print('NO')"
            ],
            "metadata": {
                "azdata_cell_guid": "b819aa47-42c0-4a1e-9f4a-5928a547ab83",
                "language": "python",
                "tags": []
            },
            "outputs": [
                {
                    "name": "stdout",
                    "text": "NO\n",
                    "output_type": "stream"
                }
            ],
            "execution_count": 48
        },
        {
            "cell_type": "code",
            "source": [
                "#slon\r\n",
                "\r\n",
                "y1 , x1 = int(input()) , int(input())\r\n",
                "y2 , x2 = int(input()) , int(input())\r\n",
                "\r\n",
                "if (y2 - y1 == 2 and (x2 - x1 == 1 or x2 - x1 == -1)) or (y1 - y2 == 2 and (x2 - x1 == 1 or x2 - x1 == -1)):\r\n",
                "    print('YES')\r\n",
                "elif (y2 - y1 == 1 and(x2 - x1 == 2 or x2 - x1 == -2)) or (y1 - y2 == 1 and (x2 - x1 == 2 or x2 - x1 == -2)):\r\n",
                "    print('YES')\r\n",
                "else:\r\n",
                "    print('NO')\r\n",
                "\r\n",
                ""
            ],
            "metadata": {
                "azdata_cell_guid": "468199d6-f89c-491b-945e-ff91175e2844",
                "language": "python",
                "tags": []
            },
            "outputs": [],
            "execution_count": null
        },
        {
            "cell_type": "code",
            "source": [
                "#LADYA\r\n",
                "y1 , x1 = int(input()) , int(input())\r\n",
                "y2 , x2 = int(input()) , int(input())\r\n",
                "if (y1 == y2 or x1 == x2) or (abs(y2 - y1) == abs(x1 - x2)):\r\n",
                "    print('YES')\r\n",
                "else:\r\n",
                "    print('NO')"
            ],
            "metadata": {
                "azdata_cell_guid": "3d956bd0-0305-4f0e-918c-d36d3922bab1",
                "language": "python",
                "tags": []
            },
            "outputs": [],
            "execution_count": null
        }
    ]
}