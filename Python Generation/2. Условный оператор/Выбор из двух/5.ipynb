{
    "metadata": {
        "kernelspec": {
            "name": "python3",
            "display_name": "Python 3 (ipykernel)",
            "language": "python"
        },
        "language_info": {
            "name": "python",
            "version": "3.9.12",
            "mimetype": "text/x-python",
            "codemirror_mode": {
                "name": "ipython",
                "version": 3
            },
            "pygments_lexer": "ipython3",
            "nbconvert_exporter": "python",
            "file_extension": ".py"
        }
    },
    "nbformat_minor": 2,
    "nbformat": 4,
    "cells": [
        {
            "cell_type": "code",
            "source": [
                "#Напишите программу, которая определяет, являются ли три заданных числа (в указанном порядке) \r\n",
                "#последовательными членами арифметической прогрессии.\r\n",
                "\r\n",
                "n1 , n2 , n3 = int(input()) , int(input()) , int(input()) ,\r\n",
                "\r\n",
                "if n3 - n2 == n2 - n1:\r\n",
                "    print('YES')\r\n",
                "else:\r\n",
                "    print('NO')"
            ],
            "metadata": {
                "azdata_cell_guid": "5157a0f5-16c8-4c03-bf75-0c8ce41c918f",
                "language": "python"
            },
            "outputs": [
{
    "name": "stdout",
    "text": "NO\n",
    "output_type": "stream"
}
],
            "execution_count": 6
        }
    ]
}