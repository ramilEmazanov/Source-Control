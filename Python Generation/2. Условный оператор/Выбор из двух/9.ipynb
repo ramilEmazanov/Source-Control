{
    "metadata": {
        "kernelspec": {
            "name": "python3",
            "display_name": "Python 3 (ipykernel)",
            "language": "python"
        },
        "language_info": {
            "name": "python",
            "version": "3.9.12",
            "mimetype": "text/x-python",
            "codemirror_mode": {
                "name": "ipython",
                "version": 3
            },
            "pygments_lexer": "ipython3",
            "nbconvert_exporter": "python",
            "file_extension": ".py"
        }
    },
    "nbformat_minor": 2,
    "nbformat": 4,
    "cells": [
        {
            "cell_type": "code",
            "source": [
                "#Напишите программу, которая считывает три числа и подсчитывает сумму только положительных чисел.\r\n",
                "\r\n",
                "n1, n2, n3 = int(input()), int(input()), int(input())\r\n",
                "if n1 < 0:\r\n",
                "    n1 = 0\r\n",
                "if n2 < 0:\r\n",
                "    n2 = 0\r\n",
                "if n3 < 0:\r\n",
                "    n3 = 0\r\n",
                "print(n1+n2+n3)"
            ],
            "metadata": {
                "azdata_cell_guid": "550fa17d-09fa-467d-9f86-ba26324b7bf4",
                "language": "python"
            },
            "outputs": [
                {
                    "name": "stdout",
                    "text": "6\n",
                    "output_type": "stream"
                }
            ],
            "execution_count": 1
        }
    ]
}