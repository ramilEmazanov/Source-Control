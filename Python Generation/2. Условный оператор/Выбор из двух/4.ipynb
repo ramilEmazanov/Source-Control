{
    "metadata": {
        "kernelspec": {
            "name": "python3",
            "display_name": "Python 3 (ipykernel)",
            "language": "python"
        },
        "language_info": {
            "name": "python",
            "version": "3.9.12",
            "mimetype": "text/x-python",
            "codemirror_mode": {
                "name": "ipython",
                "version": 3
            },
            "pygments_lexer": "ipython3",
            "nbconvert_exporter": "python",
            "file_extension": ".py"
        }
    },
    "nbformat_minor": 2,
    "nbformat": 4,
    "cells": [
        {
            "cell_type": "code",
            "source": [
                "#Напишите программу, которая определяет, разрешен пользователю доступ к интернет-ресурсу или нет.\r\n",
                "\r\n",
                "age = int(input())\r\n",
                "if age < 18:\r\n",
                "    print('Доступ запрещен')\r\n",
                "else: \r\n",
                "    print('Доступ разрешен')"
            ],
            "metadata": {
                "azdata_cell_guid": "b9d96c91-53fd-448c-a11c-aa84d681c645",
                "language": "python"
            },
            "outputs": [
{
    "name": "stdout",
    "text": "Доступ запрещен\n",
    "output_type": "stream"
}
],
            "execution_count": 4
        }
    ]
}