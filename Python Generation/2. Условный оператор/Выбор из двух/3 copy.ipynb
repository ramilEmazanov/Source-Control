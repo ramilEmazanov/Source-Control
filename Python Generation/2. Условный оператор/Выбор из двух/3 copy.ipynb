{
    "metadata": {
        "kernelspec": {
            "name": "python3",
            "display_name": "Python 3 (ipykernel)",
            "language": "python"
        },
        "language_info": {
            "name": "python",
            "version": "3.9.12",
            "mimetype": "text/x-python",
            "codemirror_mode": {
                "name": "ipython",
                "version": 3
            },
            "pygments_lexer": "ipython3",
            "nbconvert_exporter": "python",
            "file_extension": ".py"
        }
    },
    "nbformat_minor": 2,
    "nbformat": 4,
    "cells": [
        {
            "cell_type": "code",
            "source": [
                "#Напишите программу, которая проверяет, что для заданного четырехзначного числа выполняется следующее соотношение: \r\n",
                "#сумма первой и последней цифр равна разности второй и третьей цифр.\r\n",
                "#1614\r\n",
                "\r\n",
                "n1 , n2 , n3 , n4 = input() , input() , input() , input()\r\n",
                "if int(n1) + int(n4) == int(n2) - int(n3):\r\n",
                "    print('ДА')\r\n",
                "else:\r\n",
                "    print('НЕТ')"
            ],
            "metadata": {
                "azdata_cell_guid": "99695bd1-4b11-47e1-bb3e-95f485745c83",
                "language": "python"
            },
            "outputs": [
{
    "name": "stdout",
    "text": "НЕТ\n",
    "output_type": "stream"
}
],
            "execution_count": 4
        }
    ]
}