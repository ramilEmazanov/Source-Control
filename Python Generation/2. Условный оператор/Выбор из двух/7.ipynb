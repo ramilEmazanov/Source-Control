{
    "metadata": {
        "kernelspec": {
            "name": "python3",
            "display_name": "Python 3 (ipykernel)",
            "language": "python"
        },
        "language_info": {
            "name": "python",
            "version": "3.9.12",
            "mimetype": "text/x-python",
            "codemirror_mode": {
                "name": "ipython",
                "version": 3
            },
            "pygments_lexer": "ipython3",
            "nbconvert_exporter": "python",
            "file_extension": ".py"
        }
    },
    "nbformat_minor": 2,
    "nbformat": 4,
    "cells": [
        {
            "cell_type": "code",
            "source": [
                "#Напишите программу, которая определяет наименьшее из четырёх чисел.\r\n",
                "\r\n",
                "n1 , n2 , n3 , n4 = int(input()), int(input()), int(input()), int(input()), \r\n",
                "print(n1 , n2 , n3 , n4)\r\n",
                "if n3 < n4:\r\n",
                "    n4 = n3\r\n",
                "if n2 < n3:\r\n",
                "    n3 = n2\r\n",
                "if n1 < n2:\r\n",
                "    n2 = n1\r\n",
                "print(n2)\r\n",
                "print(n1 , n2 , n3 , n4)\r\n",
                ""
            ],
            "metadata": {
                "azdata_cell_guid": "d64cb235-19ce-4f1d-806e-4f8edaaff8fd",
                "language": "python",
                "tags": []
            },
            "outputs": [
                {
                    "name": "stdout",
                    "text": "4 571 2351 87\n4\n4 4 571 87\n",
                    "output_type": "stream"
                }
            ],
            "execution_count": 32
        },
        {
            "cell_type": "code",
            "source": [
                "n1 , n2 , n3 , n4 = int(input()), int(input()), int(input()), int(input()), \r\n",
                "print(n1 , n2 , n3 , n4)\r\n",
                "if n1 < n2:\r\n",
                "    n2 = n1\r\n",
                "if n3 < n4:\r\n",
                "    n4 = n3\r\n",
                "if n2 < n4:\r\n",
                "    print(n2)\r\n",
                "else:\r\n",
                "    print(n4)\r\n",
                "print(n1 , n2 , n3 , n4)"
            ],
            "metadata": {
                "azdata_cell_guid": "755e6177-5284-4618-83e3-9319942122f1",
                "language": "python"
            },
            "outputs": [
{
    "name": "stdout",
    "text": "87 321 5255 2\n2\n87 87 5255 2\n",
    "output_type": "stream"
}
],
            "execution_count": 37
        },
        {
            "cell_type": "code",
            "source": [
                "n1 , n2 , n3 , n4 = int(input()), int(input()), int(input()), int(input()), \r\n",
                "print(n1 , n2 , n3 , n4)\r\n",
                "if n1 < n2:\r\n",
                "    n2 = n1\r\n",
                "if n2 < n3:\r\n",
                "    n3 = n2\r\n",
                "if n3 < n4:\r\n",
                "    n4 = n3\r\n",
                "print(n4)\r\n",
                "print(n1 , n2 , n3 , n4)\r\n",
                ""
            ],
            "metadata": {
                "azdata_cell_guid": "269e2a56-0cce-46b1-adb3-ebf3e5988e56",
                "language": "python"
            },
            "outputs": [
                {
                    "name": "stdout",
                    "text": "4 571 2351 87\n4\n4 4 4 4\n",
                    "output_type": "stream"
                }
            ],
            "execution_count": 29
        }
    ]
}