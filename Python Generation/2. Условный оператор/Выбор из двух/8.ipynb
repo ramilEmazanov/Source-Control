{
    "metadata": {
        "kernelspec": {
            "name": "python3",
            "display_name": "Python 3 (ipykernel)",
            "language": "python"
        },
        "language_info": {
            "name": "python",
            "version": "3.9.12",
            "mimetype": "text/x-python",
            "codemirror_mode": {
                "name": "ipython",
                "version": 3
            },
            "pygments_lexer": "ipython3",
            "nbconvert_exporter": "python",
            "file_extension": ".py"
        }
    },
    "nbformat_minor": 2,
    "nbformat": 4,
    "cells": [
        {
            "cell_type": "code",
            "source": [
                "#Напишите программу, которая по введённому возрасту пользователя сообщает, к какой возрастной группе он относится:\r\n",
                "\r\n",
                "#до 13 включительно – детство;\r\n",
                "#от 14 до 24 – молодость;\r\n",
                "#от 25 до 59 – зрелость;\r\n",
                "#от 60 – старость.\r\n",
                "\r\n",
                "age = int(input())\r\n",
                "if age <= 13:\r\n",
                "    print('детство')\r\n",
                "if 14 <= age <= 24:\r\n",
                "    print('молодость')\r\n",
                "if 25 <= age <= 59:\r\n",
                "    print('зрелость')\r\n",
                "if age >=60:\r\n",
                "    print('старость')"
            ],
            "metadata": {
                "azdata_cell_guid": "bfad8ee8-72ce-45a4-b709-783e90373ac1",
                "language": "python"
            },
            "outputs": [
{
    "name": "stdout",
    "text": "старость\n",
    "output_type": "stream"
}
],
            "execution_count": 9
        }
    ]
}