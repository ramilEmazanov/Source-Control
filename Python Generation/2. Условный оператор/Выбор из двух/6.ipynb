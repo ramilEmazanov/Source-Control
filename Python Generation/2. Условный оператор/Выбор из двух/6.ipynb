{
    "metadata": {
        "kernelspec": {
            "name": "python3",
            "display_name": "Python 3 (ipykernel)",
            "language": "python"
        },
        "language_info": {
            "name": "python",
            "version": "3.9.12",
            "mimetype": "text/x-python",
            "codemirror_mode": {
                "name": "ipython",
                "version": 3
            },
            "pygments_lexer": "ipython3",
            "nbconvert_exporter": "python",
            "file_extension": ".py"
        }
    },
    "nbformat_minor": 2,
    "nbformat": 4,
    "cells": [
        {
            "cell_type": "code",
            "source": [
                "#Напишите программу, которая определяет наименьшее из двух чисел.\r\n",
                "\r\n",
                "n1 , n2 = int(input()) , int(input())\r\n",
                "if n1 < n2:\r\n",
                "    print(n1)\r\n",
                "else:\r\n",
                "    print(n2)"
            ],
            "metadata": {
                "azdata_cell_guid": "50d9064f-1181-4ca8-b0d9-7f4affd7b29a",
                "language": "python"
            },
            "outputs": [
{
    "name": "stdout",
    "text": "8\n",
    "output_type": "stream"
}
],
            "execution_count": 2
        }
    ]
}