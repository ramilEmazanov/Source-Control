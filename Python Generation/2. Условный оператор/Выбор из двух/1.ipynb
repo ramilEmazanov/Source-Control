{
    "metadata": {
        "kernelspec": {
            "name": "python3",
            "display_name": "Python 3 (ipykernel)",
            "language": "python"
        },
        "language_info": {
            "name": "python",
            "version": "3.9.12",
            "mimetype": "text/x-python",
            "codemirror_mode": {
                "name": "ipython",
                "version": 3
            },
            "pygments_lexer": "ipython3",
            "nbconvert_exporter": "python",
            "file_extension": ".py"
        }
    },
    "nbformat_minor": 2,
    "nbformat": 4,
    "cells": [
        {
            "cell_type": "code",
            "source": [
                "#Напишите программу, которая сравнивает пароль и его подтверждение. \r\n",
                "#Если они совпадают, то программа выводит: «Пароль принят», иначе: «Пароль не принят».\r\n",
                "\r\n",
                "first = input()\r\n",
                "second = input()\r\n",
                "if first == second:\r\n",
                "    print('Пароль принят')\r\n",
                "else:\r\n",
                "    print('Пароль не принят')\r\n",
                ""
            ],
            "metadata": {
                "azdata_cell_guid": "152d8af9-133a-48a1-b7f8-4bc9e8d5ce1c",
                "language": "python"
            },
            "outputs": [
{
    "name": "stdout",
    "text": "Пароль не принят\n",
    "output_type": "stream"
}
],
            "execution_count": 47
        }
    ]
}