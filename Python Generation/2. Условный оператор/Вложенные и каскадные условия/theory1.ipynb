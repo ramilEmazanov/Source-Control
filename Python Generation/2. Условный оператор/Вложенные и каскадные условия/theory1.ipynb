{
    "metadata": {
        "kernelspec": {
            "name": "python3",
            "display_name": "Python 3 (ipykernel)",
            "language": "python"
        },
        "language_info": {
            "name": "python",
            "version": "3.9.12",
            "mimetype": "text/x-python",
            "codemirror_mode": {
                "name": "ipython",
                "version": 3
            },
            "pygments_lexer": "ipython3",
            "nbconvert_exporter": "python",
            "file_extension": ".py"
        }
    },
    "nbformat_minor": 2,
    "nbformat": 4,
    "cells": [
        {
            "cell_type": "code",
            "source": [
                "#В предыдущем уроке мы разбирали задачу об определении координатной четверти точки. \r\n",
                "#Программу можно переписать с использованием вложенного оператора:\r\n",
                "\r\n",
                "x = int(input())\r\n",
                "y = int(input())\r\n",
                "if x > 0:\r\n",
                "    if y > 0:\r\n",
                "        print('Первая четверть')\r\n",
                "    else:\r\n",
                "        print('Четвертая четверть')\r\n",
                "else:\r\n",
                "    if y > 0:\r\n",
                "        print('Вторая четверть')\r\n",
                "    else:\r\n",
                "        print('Третья четверть')"
            ],
            "metadata": {
                "azdata_cell_guid": "e73aa567-934d-4e16-8705-6db3edcf3605",
                "language": "python"
            },
            "outputs": [],
            "execution_count": null
        },
        {
            "cell_type": "code",
            "source": [
                "#Рассмотрим программу, которая переводит стобалльную оценку в пятибалльную. \r\n",
                "#Для её реализации нужно воспользоваться вложенным условным оператором:\r\n",
                "\r\n",
                "grade = int(input('Введите вашу отметку по 100-балльной системе: '))\r\n",
                "\r\n",
                "if grade >= 90:\r\n",
                "    print(5)\r\n",
                "else:\r\n",
                "    if grade >= 80:\r\n",
                "        print(4)\r\n",
                "    else:\r\n",
                "        if grade >= 70: \r\n",
                "            print(3)\r\n",
                "        else:\r\n",
                "            if grade >= 60:\r\n",
                "                print(2)\r\n",
                "            else:\r\n",
                "                print(1)"
            ],
            "metadata": {
                "azdata_cell_guid": "5f197c70-82f5-4271-94ac-724f94804e89",
                "language": "python"
            },
            "outputs": [],
            "execution_count": null
        },
        {
            "cell_type": "code",
            "source": [
                "#Задача 1. Даны три целых числа. Определите, сколько среди них совпадающих. \r\n",
                "#nрограмма должна вывести одно из чисел: 3 (если все совпадают), 2 (если два совпадает) или 0 (если все числа различны).\r\n",
                "\r\n",
                "n1 = int(input())\r\n",
                "n2 = int(input())\r\n",
                "n3 = int(input())\r\n",
                "num = 0\r\n",
                "\r\n",
                "if n1 == n2 == n3:\r\n",
                "    print('3')\r\n",
                "elif n1 == n2 != n3:\r\n",
                "    print('2')\r\n",
                "elif n1 != n2 == n3:\r\n",
                "    print('2')\r\n",
                "elif n1 == n3:\r\n",
                "    print('2')\r\n",
                "else:\r\n",
                "    print('0')\r\n",
                ""
            ],
            "metadata": {
                "azdata_cell_guid": "dce78471-cb98-4071-aba7-c35ca12038bd",
                "language": "python"
            },
            "outputs": [
                {
                    "output_type": "stream",
                    "name": "stdout",
                    "text": "3\n"
                }
            ],
            "execution_count": 24
        },
        {
            "cell_type": "code",
            "source": [
                "n1 = int(input())\r\n",
                "n2 = int(input())\r\n",
                "n3 = int(input())\r\n",
                "num = 0\r\n",
                "\r\n",
                "if n1 == n2:\r\n",
                "    num = num + 1\r\n",
                "if n2 == n3:\r\n",
                "    num = num + 1\r\n",
                "if n1 == n3:\r\n",
                "    num = num + 1\r\n",
                "print(num)"
            ],
            "metadata": {
                "azdata_cell_guid": "e5c529fe-ebc9-4945-bf28-8258c3883fd6",
                "language": "python"
            },
            "outputs": [
                {
                    "output_type": "stream",
                    "name": "stdout",
                    "text": "1\n"
                }
            ],
            "execution_count": 28
        },
        {
            "cell_type": "code",
            "source": [
                "a, b, c = int(input()), int(input()), int(input())\n",
                "if a == b:\n",
                "    if b == c:\n",
                "        print(3)\n",
                "    else:\n",
                "        print(2)\n",
                "else:\n",
                "    if a == c:\n",
                "        print(2)\n",
                "    else:\n",
                "        if b == c:\n",
                "            print(2)\n",
                "        else:\n",
                "            print(0)"
            ],
            "metadata": {
                "azdata_cell_guid": "22ee1e6f-4266-471e-929d-9afc1cc7fd98",
                "language": "python"
            },
            "outputs": [],
            "execution_count": null
        }
    ]
}