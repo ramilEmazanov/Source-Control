{
    "metadata": {
        "kernelspec": {
            "name": "python3",
            "display_name": "Python 3 (ipykernel)",
            "language": "python"
        },
        "language_info": {
            "name": "python",
            "version": "3.9.12",
            "mimetype": "text/x-python",
            "codemirror_mode": {
                "name": "ipython",
                "version": 3
            },
            "pygments_lexer": "ipython3",
            "nbconvert_exporter": "python",
            "file_extension": ".py"
        }
    },
    "nbformat_minor": 2,
    "nbformat": 4,
    "cells": [
        {
            "cell_type": "code",
            "source": [
                "c1 , c2 = input() , input()\r\n",
                "red = 'красный'\r\n",
                "yellow = 'желтый'\r\n",
                "blue = 'синий'\r\n",
                "\r\n",
                "\r\n",
                "if c1 == c2:\r\n",
                "    print(c1)\r\n",
                "else:\r\n",
                "    if (c1 == red or c2 == red) and (c2 == blue or c1 == blue):\r\n",
                "        print('фиолетовый')\r\n",
                "    else:\r\n",
                "        if (c1 == red or c2 == red) and (c2 == yellow or c1 == yellow):\r\n",
                "            print('оранжевый')\r\n",
                "        else:\r\n",
                "            if (c2 == yellow or c1 == yellow) and (c2 == blue or c1 == blue):\r\n",
                "                print('зеленый')\r\n",
                "  "
            ],
            "metadata": {
                "azdata_cell_guid": "30c36383-5251-4983-b78c-8d9920c4bb0d",
                "language": "python"
            },
            "outputs": [],
            "execution_count": null
        },
        {
            "cell_type": "code",
            "source": [
                "c1 , c2 = input() , input()\r\n",
                "red = 'красный'\r\n",
                "yellow = 'желтый'\r\n",
                "blue = 'синий'\r\n",
                "\r\n",
                "\r\n",
                "if c1 != red and c2 != red and c1 != yellow and c2 != yellow and c1 != blue and c2 != blue:\r\n",
                "    print('ошибка цвета')\r\n",
                "elif c1 == c2:\r\n",
                "    print(c1)\r\n",
                "elif (c1 == red or c2 == red) and (c2 == blue or c1 == blue):\r\n",
                "    print('фиолетовый')\r\n",
                "elif (c1 == red or c2 == red) and (c2 == yellow or c1 == yellow):\r\n",
                "    print('оранжевый')\r\n",
                "elif (c2 == yellow or c1 == yellow) and (c2 == blue or c1 == blue):\r\n",
                "    print('зеленый')\r\n",
                "else:\r\n",
                "    print('ошибка цвета')"
            ],
            "metadata": {
                "azdata_cell_guid": "7d7c9530-1978-4ed1-b059-efcc1fd45b66",
                "language": "python"
            },
            "outputs": [
                {
                    "name": "stdout",
                    "text": "ошибка цвета\n",
                    "output_type": "stream"
                }
            ],
            "execution_count": 32
        },
        {
            "cell_type": "code",
            "source": [
                "c1 , c2 = input() , input()\r\n",
                "c = c1 + c2\r\n",
                "if c == 'красныйжелтый' or 'желтыйкрасный' :\r\n",
                "    print('оранжевый')\r\n",
                "elif c == 'красныйсиний' or 'синийкрасный' :\r\n",
                "    print('фиолетовый')\r\n",
                "elif c == 'желтыйсиний' or 'синийжелтый' :\r\n",
                "    print('зеленый')\r\n",
                "elif c == 'желтыйжелтый' or 'синийсиний' or 'красныйкрасный' :\r\n",
                "    print(c1)\r\n",
                "else:\r\n",
                "    print('ошибка цвета')"
            ],
            "metadata": {
                "azdata_cell_guid": "28a145db-4747-4fc5-b7e5-1fc0a65bc2dd",
                "language": "python"
            },
            "outputs": [
                {
                    "name": "stdout",
                    "text": "оранжевый\n",
                    "output_type": "stream"
                }
            ],
            "execution_count": 36
        }
    ]
}