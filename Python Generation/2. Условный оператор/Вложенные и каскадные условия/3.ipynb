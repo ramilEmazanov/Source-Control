{
    "metadata": {
        "kernelspec": {
            "name": "python3",
            "display_name": "Python 3 (ipykernel)",
            "language": "python"
        },
        "language_info": {
            "name": "python",
            "version": "3.9.12",
            "mimetype": "text/x-python",
            "codemirror_mode": {
                "name": "ipython",
                "version": 3
            },
            "pygments_lexer": "ipython3",
            "nbconvert_exporter": "python",
            "file_extension": ".py"
        }
    },
    "nbformat_minor": 2,
    "nbformat": 4,
    "cells": [
        {
            "cell_type": "code",
            "source": [
                "#Даны три различных целых числа. Напишите программу, которая находит среднее по величине число.\r\n",
                "\r\n",
                "n1 , n2 , n3 = int(input()) , int(input()) , int(input())\r\n",
                "\r\n",
                "if (n2 > n1 or n2 > n3) and (n2 < n3 or n2 < n1):\r\n",
                "    print(n2)\r\n",
                "else:\r\n",
                "    if (n1 < n2 or n1 < n3) and (n3 < n1 or n3 < n2):\r\n",
                "        print(n1)\r\n",
                "    else:\r\n",
                "        print(n3)\r\n",
                "        \r\n",
                "print(' n1 = ' , n1 )\r\n",
                "print(' n2 = ' , n2)\r\n",
                "print(' n3 = ' , n3)"
            ],
            "metadata": {
                "azdata_cell_guid": "981ac51e-6c0a-4055-ba7a-14242d36f135",
                "language": "python"
            },
            "outputs": [
                {
                    "name": "stdout",
                    "text": "10\n n1 =  10\n n2 =  30\n n3 =  20\n",
                    "output_type": "stream"
                }
            ],
            "execution_count": 13
        },
        {
            "cell_type": "code",
            "source": [
                "n1 , n2 , n3 = int(input()) , int(input()) , int(input())\r\n",
                "\r\n",
                "if n1 < n2 < n3 or n3 < n2 < n1:\r\n",
                "    print(n2)\r\n",
                "elif n3 < n1 < n2 or n2 < n2 < n3:\r\n",
                "    print(n1)\r\n",
                "else:\r\n",
                "    print(n3)\r\n",
                "\r\n",
                "print(' n1 = ' , n1 )\r\n",
                "print(' n2 = ' , n2)\r\n",
                "print(' n3 = ' , n3)"
            ],
            "metadata": {
                "azdata_cell_guid": "a14f9179-e85a-491a-91a9-76a2a8bf834f",
                "language": "python"
            },
            "outputs": [
                {
                    "name": "stdout",
                    "text": "34\n n1 =  54\n n2 =  34\n n3 =  33\n",
                    "output_type": "stream"
                }
            ],
            "execution_count": 23
        }
    ]
}