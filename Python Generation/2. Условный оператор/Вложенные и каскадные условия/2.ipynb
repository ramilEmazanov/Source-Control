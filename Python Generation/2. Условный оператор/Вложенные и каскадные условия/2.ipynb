{
    "metadata": {
        "kernelspec": {
            "name": "SQL",
            "display_name": "SQL",
            "language": "sql"
        },
        "language_info": {
            "name": "sql",
            "version": ""
        }
    },
    "nbformat_minor": 2,
    "nbformat": 4,
    "cells": [
        {
            "cell_type": "code",
            "source": [
                "#Напишите программу, которая принимает три положительных числа\r\n",
                "#и определяет вид треугольника, длины сторон которого равны введенным числам.\r\n",
                "#Программа должна вывести на экран текст – вид треугольника («Равносторонний», «Равнобедренный» или «Разносторонний»).\r\n",
                "\r\n",
                "a , b , c = int(input()), int(input()) , int(input())\r\n",
                "if a == b == c:\r\n",
                "    print('Равносторонний')\r\n",
                "else: \r\n",
                "    if a == b or b == c or a == c:\r\n",
                "        print('Равнобедренный')\r\n",
                "    else:\r\n",
                "        print('Разносторонний')\r\n",
                "   \r\n",
                "    "
            ],
            "metadata": {
                "azdata_cell_guid": "f5bf0903-e15c-498a-a384-3d09293bf5f8",
                "language": "sql"
            },
            "outputs": [
                {
                    "output_type": "stream",
                    "name": "stdout",
                    "text": "raznostor\n"
                }
            ],
            "execution_count": 7
        }
    ]
}