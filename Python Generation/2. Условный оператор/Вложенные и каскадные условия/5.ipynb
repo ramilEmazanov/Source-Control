{
    "metadata": {
        "kernelspec": {
            "name": "python3",
            "display_name": "Python 3 (ipykernel)",
            "language": "python"
        },
        "language_info": {
            "name": "python",
            "version": "3.9.12",
            "mimetype": "text/x-python",
            "codemirror_mode": {
                "name": "ipython",
                "version": 3
            },
            "pygments_lexer": "ipython3",
            "nbconvert_exporter": "python",
            "file_extension": ".py"
        }
    },
    "nbformat_minor": 2,
    "nbformat": 4,
    "cells": [
        {
            "cell_type": "code",
            "source": [
                "#Известен вес боксера-любителя (целое число). Известно, что вес таков, что боксер может быть отнесён к одной из трех весовых категорий:\r\n",
                "\r\n",
                "#Легкий вес – до 60 кг;\r\n",
                "#Первый полусредний вес – до 64 кг;\r\n",
                "#Полусредний вес – до 69 кг.\r\n",
                "#Напишите программу, определяющую, в какой категории будет выступать данный боксер.\r\n",
                "\r\n",
                "n = int(input())\r\n",
                "\r\n",
                "if n < 60:\r\n",
                "    print('Легкий вес')\r\n",
                "elif n < 64:\r\n",
                "    print('Первый полусредний вес')\r\n",
                "elif n < 69:\r\n",
                "    print('Полусредний вес')"
            ],
            "metadata": {
                "azdata_cell_guid": "acf109f6-6a4a-4a63-8a32-c8bffb9b39ba",
                "language": "python"
            },
            "outputs": [],
            "execution_count": null
        }
    ]
}