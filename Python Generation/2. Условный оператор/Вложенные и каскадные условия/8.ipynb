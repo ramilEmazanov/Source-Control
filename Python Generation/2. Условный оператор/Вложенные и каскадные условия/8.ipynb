{
    "metadata": {
        "kernelspec": {
            "name": "python3",
            "display_name": "Python 3 (ipykernel)",
            "language": "python"
        },
        "language_info": {
            "name": "python",
            "version": "3.9.12",
            "mimetype": "text/x-python",
            "codemirror_mode": {
                "name": "ipython",
                "version": 3
            },
            "pygments_lexer": "ipython3",
            "nbconvert_exporter": "python",
            "file_extension": ".py"
        }
    },
    "nbformat_minor": 2,
    "nbformat": 4,
    "cells": [
        {
            "cell_type": "code",
            "source": [
                "#карман 0 зеленый;\r\n",
                "#для карманов с 1 по 10 карманы с нечетным номером имеют красный цвет, карманы с четным номером – черный;\r\n",
                "#для карманов с 11 по 18 карманы с нечетным номером имеют черный цвет, карманы с четным номером – красный;\r\n",
                "#для карманов с 19 по 28 карманы с нечетным номером имеют красный цвет, карманы с четным номером – черный;\r\n",
                "#для карманов с 29 по 36 карманы с нечетным номером имеют черный цвет, карманы с четным номером – красный.\r\n",
                "\r\n",
                "n = int(input())\r\n",
                "\r\n",
                "if n < 0 or n > 36:\r\n",
                "    print('ошибка ввода')\r\n",
                "elif n == 0:\r\n",
                "    print('зеленый')\r\n",
                "elif ((1 <= n <= 10 or 19 <= n <= 28) and n % 2 != 0) or ((11 <= n <= 18 or 29 <= n <= 36) and n % 2 == 0):\r\n",
                "    print('красный')\r\n",
                "else:\r\n",
                "    print('черный')\r\n",
                "\r\n",
                ""
            ],
            "metadata": {
                "azdata_cell_guid": "d6741f10-aebd-4ff7-b2e7-044dab8dbe3e",
                "language": "python"
            },
            "outputs": [
                {
                    "name": "stdout",
                    "text": "красный\n",
                    "output_type": "stream"
                }
            ],
            "execution_count": 16
        },
        {
            "cell_type": "code",
            "source": [
                "n = int(input())\r\n",
                "\r\n",
                "if n == 0:\r\n",
                "    print('зеленый')\r\n",
                "elif ((1 <= n <= 10 or 19 <= n <= 28) and n % 2 != 0) or ((11 <= n <= 18 or 29 <= n <= 36) and n % 2 == 0):\r\n",
                "    print('красный')\r\n",
                "elif ((1 <= n <= 10 or 19 <= n <= 28) and n % 2 == 0) or ((11 <= n <= 18 or 29 <= n <= 36) and n % 2 != 0):\r\n",
                "    print('черный')\r\n",
                "else: \r\n",
                "    print('ошибка ввода')"
            ],
            "metadata": {
                "azdata_cell_guid": "1771adb8-125a-404d-881b-28cd55be07a0",
                "language": "python"
            },
            "outputs": [],
            "execution_count": null
        }
    ]
}