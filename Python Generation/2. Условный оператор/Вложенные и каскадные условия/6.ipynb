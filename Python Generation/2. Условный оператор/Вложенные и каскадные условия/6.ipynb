{
    "metadata": {
        "kernelspec": {
            "name": "python3",
            "display_name": "Python 3 (ipykernel)",
            "language": "python"
        },
        "language_info": {
            "name": "python",
            "version": "3.9.12",
            "mimetype": "text/x-python",
            "codemirror_mode": {
                "name": "ipython",
                "version": 3
            },
            "pygments_lexer": "ipython3",
            "nbconvert_exporter": "python",
            "file_extension": ".py"
        }
    },
    "nbformat_minor": 2,
    "nbformat": 4,
    "cells": [
        {
            "cell_type": "code",
            "source": [
                "#Калькулятор\r\n",
                "\r\n",
                "num1 = int(input())\r\n",
                "num2 = int(input())\r\n",
                "deistvie = input()\r\n",
                "\r\n",
                "if deistvie == '+' :\r\n",
                "    print(num1 + num2)\r\n",
                "else:\r\n",
                "    if deistvie == '-' :\r\n",
                "        print(num1 - num2)\r\n",
                "    else:\r\n",
                "        if deistvie == '*' :\r\n",
                "            print(num1 * num2)\r\n",
                "        else:\r\n",
                "            if deistvie == '/' and num2 != 0:\r\n",
                "                print(num1 / num2)\r\n",
                "            else:\r\n",
                "                if deistvie != '+' and deistvie != '-' and deistvie != '/' and deistvie != '*':\r\n",
                "                    print('Неверная операция')\r\n",
                "                else:\r\n",
                "                    print('На ноль делить нельзя!') \r\n",
                "\r\n",
                "    "
            ],
            "metadata": {
                "azdata_cell_guid": "2d858f99-f6b9-46e5-a73f-bd7236dbd1d3",
                "language": "python"
            },
            "outputs": [],
            "execution_count": null
        }
    ]
}