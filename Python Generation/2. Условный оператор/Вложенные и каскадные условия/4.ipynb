{
    "metadata": {
        "kernelspec": {
            "name": "python3",
            "display_name": "Python 3 (ipykernel)",
            "language": "python"
        },
        "language_info": {
            "name": "python",
            "version": "3.9.12",
            "mimetype": "text/x-python",
            "codemirror_mode": {
                "name": "ipython",
                "version": 3
            },
            "pygments_lexer": "ipython3",
            "nbconvert_exporter": "python",
            "file_extension": ".py"
        }
    },
    "nbformat_minor": 2,
    "nbformat": 4,
    "cells": [
        {
            "cell_type": "code",
            "source": [
                "#Дан порядковый номер месяца (1, \\, 2, \\ldots, 12)(1,2,…, 12). \r\n",
                "#Напишите программу, которая выводит на экран количество дней в этом месяце. Принять, что год является невисокосным.\r\n",
                "\r\n",
                "n = int(input())\r\n",
                "\r\n",
                "if n == 1 or n == 3 or n == 5 or n == 7 or n == 8 or n == 10 or n == 12:\r\n",
                "    print('31')\r\n",
                "else:\r\n",
                "    if n == 4 or n == 6 or n == 9 or n == 11:\r\n",
                "        print('30')\r\n",
                "    else:\r\n",
                "        print('28')"
            ],
            "metadata": {
                "azdata_cell_guid": "1fb11d14-06d7-4ebf-95c4-4528775f0838",
                "language": "python"
            },
            "outputs": [
                {
                    "name": "stdout",
                    "text": "31\n",
                    "output_type": "stream"
                }
            ],
            "execution_count": 1
        }
    ]
}