{
    "metadata": {
        "kernelspec": {
            "name": "python3",
            "display_name": "Python 3",
            "language": "python"
        },
        "language_info": {
            "name": "python",
            "version": "3.9.12",
            "mimetype": "text/x-python",
            "codemirror_mode": {
                "name": "ipython",
                "version": 3
            },
            "pygments_lexer": "ipython3",
            "nbconvert_exporter": "python",
            "file_extension": ".py"
        }
    },
    "nbformat_minor": 2,
    "nbformat": 4,
    "cells": [
        {
            "cell_type": "code",
            "source": [
                "#На вход программе подаётся два целых числа n и k, скорость Зума и Флэша.\r\n",
                "\r\n",
                "#Формат выходных данных\r\n",
                "#Если Зум быстрее Флэша нужно вывести «NO», \r\n",
                "#если Флэш быстрее Зума нужно вывести «YES», если их скорости равны нужно вывести \"Don't know\".\r\n",
                "\r\n",
                "n , k = int(input()), int(input())\r\n",
                "if n > k:\r\n",
                "    print('NO')\r\n",
                "elif k > n:\r\n",
                "    print('YES')\r\n",
                "else:\r\n",
                "    print(\"Don't know\")\r\n",
                ""
            ],
            "metadata": {
                "azdata_cell_guid": "b910e49c-f152-4a1a-a212-9e8f07582187",
                "language": "python"
            },
            "outputs": [
                {
                    "output_type": "stream",
                    "name": "stdout",
                    "text": "Don't know\n"
                }
            ],
            "execution_count": 4
        },
        {
            "cell_type": "code",
            "source": [
                "n , k = int(input()), int(input())\r\n",
                "if k < n:\r\n",
                "    print('NO')\r\n",
                "else:\r\n",
                "    if k > n:\r\n",
                "        print('YES')\r\n",
                "    else:\r\n",
                "        print(\"Don't know\")"
            ],
            "metadata": {
                "azdata_cell_guid": "4590da80-2680-499d-86f2-26b9d703edeb",
                "language": "python"
            },
            "outputs": [
                {
                    "output_type": "stream",
                    "name": "stdout",
                    "text": "Don't know\n"
                }
            ],
            "execution_count": 8
        }
    ]
}