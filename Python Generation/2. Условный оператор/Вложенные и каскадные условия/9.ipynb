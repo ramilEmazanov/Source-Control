{
    "metadata": {
        "kernelspec": {
            "name": "python3",
            "display_name": "Python 3 (ipykernel)",
            "language": "python"
        },
        "language_info": {
            "name": "python",
            "version": "3.9.12",
            "mimetype": "text/x-python",
            "codemirror_mode": {
                "name": "ipython",
                "version": 3
            },
            "pygments_lexer": "ipython3",
            "nbconvert_exporter": "python",
            "file_extension": ".py"
        }
    },
    "nbformat_minor": 2,
    "nbformat": 4,
    "cells": [
        {
            "cell_type": "code",
            "source": [
                "a1 , b1 = int(input()) , int(input())\r\n",
                "a2 , b2 = int(input()), int(input())\r\n",
                "\r\n",
                "if (a1 < a2 and b1 > b2) or (a1 < a2 and b1 == b2) or (a1 == a2 and b1 > b2) or (a1 == a2 and b1 == b2): #1 - 4\r\n",
                "    print(a2 , b2)\r\n",
                "else:\r\n",
                "    if (a1 == a2 and b2 > b1) or (a2 < a1 and b2 == b1) or (a2 < a1 and b2 > b1): #5 - 7\r\n",
                "        print(a1 , b1)\r\n",
                "    else: \r\n",
                "        if a2 == b1:\r\n",
                "            print(a2)\r\n",
                "        else:\r\n",
                "            if a1 == b2:\r\n",
                "                print(b2)\r\n",
                "            else:\r\n",
                "                if (a1 < a2 and b1 < b2):\r\n",
                "                    print(a2 , b1)\r\n",
                "                else: \r\n",
                "                    if (a1 > a2 and b1 > b2):\r\n",
                "                        print(b2 , a1)\r\n",
                "                    else:\r\n",
                "                        print('Пустое множество')\r\n",
                "            \r\n",
                "                "
            ],
            "metadata": {
                "azdata_cell_guid": "bf944cd1-2405-4f14-9cec-873692a05156",
                "language": "python"
            },
            "outputs": [
                {
                    "name": "stdout",
                    "text": "5 2\n",
                    "output_type": "stream"
                }
            ],
            "execution_count": 42
        },
        {
            "cell_type": "code",
            "source": [
                "a1 , b1 = int(input()) , int(input())\r\n",
                "a2 , b2 = int(input()), int(input())\r\n",
                "\r\n",
                "if (a1 < a2 and b1 > b2) or (a1 < a2 and b1 == b2) or (a1 == a2 and b1 > b2) or (a1 == a2 and b1 == b2): #1 - 4\r\n",
                "    print(a2 , b2)\r\n",
                "elif (a1 == a2 and b2 > b1) or (a2 < a1 and b2 == b1) or (a2 < a1 and b2 > b1): #5 - 7\r\n",
                "    print(a1 , b1)\r\n",
                "elif a2 == b1: #10\r\n",
                "    print(a2)\r\n",
                "elif a1 == b2: #11\r\n",
                "    print(b2)\r\n",
                "elif (a1 < a2 and b1 < b2 and a2 < b1 and b2 > a1) : #9\r\n",
                "    print(a2 , b1)\r\n",
                "elif (a1 > a2 and b1 > a1 and b2 > a1 and a2 < b2):\r\n",
                "    print(a1 , b2)\r\n",
                "elif (a1 > a2 and b1 > b2 and a2 < b1 and b2 > a1): #8\r\n",
                "    print(b2 , a1)\r\n",
                "else:\r\n",
                "    print('пустое множество')"
            ],
            "metadata": {
                "azdata_cell_guid": "5578f1f1-205a-4807-86b7-fc8c70d6d0b0",
                "language": "python"
            },
            "outputs": [
                {
                    "name": "stdout",
                    "text": "2 3\n",
                    "output_type": "stream"
                }
            ],
            "execution_count": 75
        },
        {
            "cell_type": "code",
            "source": [
                "a1 -80\r\n",
                "b1 30\r\n",
                "a2 -100\r\n",
                "b2 -50\t        -80 -50"
            ],
            "metadata": {
                "azdata_cell_guid": "d912c4f2-7e69-46f1-a2bd-8d58d6252c65",
                "language": "python"
            },
            "outputs": [],
            "execution_count": null
        },
        {
            "cell_type": "code",
            "source": [
                "n = int(input())\r\n",
                "print(abs(n))"
            ],
            "metadata": {
                "azdata_cell_guid": "928e298c-b288-4569-a855-a5e601819e55",
                "language": "python"
            },
            "outputs": [
                {
                    "name": "stdout",
                    "text": "5\n",
                    "output_type": "stream"
                }
            ],
            "execution_count": 65
        }
    ]
}