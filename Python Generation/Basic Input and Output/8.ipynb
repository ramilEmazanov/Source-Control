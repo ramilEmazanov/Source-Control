{
    "metadata": {
        "kernelspec": {
            "name": "python3",
            "display_name": "Python 3 (ipykernel)",
            "language": "python"
        },
        "language_info": {
            "name": "python",
            "version": "3.9.12",
            "mimetype": "text/x-python",
            "codemirror_mode": {
                "name": "ipython",
                "version": 3
            },
            "pygments_lexer": "ipython3",
            "nbconvert_exporter": "python",
            "file_extension": ".py"
        }
    },
    "nbformat_minor": 2,
    "nbformat": 4,
    "cells": [
        {
            "cell_type": "code",
            "source": [
                "\r\n",
                "a = input()\r\n",
                "b = input()\r\n",
                "c = input()\r\n",
                "print (c)\r\n",
                "print (b)\r\n",
                "print (a)"
            ],
            "metadata": {
                "azdata_cell_guid": "8379cd17-79c7-412b-92e5-e8b8c6a3a86d",
                "language": "python"
            },
            "outputs": [
{
    "name": "stdout",
    "text": "3\n2\n1\n",
    "output_type": "stream"
}
],
            "execution_count": 1
        }
    ]
}