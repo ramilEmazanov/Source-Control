{
    "metadata": {
        "kernelspec": {
            "name": "python3",
            "display_name": "Python 3 (ipykernel)",
            "language": "python"
        },
        "language_info": {
            "name": "python",
            "version": "3.9.12",
            "mimetype": "text/x-python",
            "codemirror_mode": {
                "name": "ipython",
                "version": 3
            },
            "pygments_lexer": "ipython3",
            "nbconvert_exporter": "python",
            "file_extension": ".py"
        }
    },
    "nbformat_minor": 2,
    "nbformat": 4,
    "cells": [
        {
            "cell_type": "code",
            "source": [
                "#На вход программе подается строка текста – название футбольной команды. \n",
                "#Напишите программу, которая повторяет ее на экране со словами « - чемпион!» (без кавычек).\n",
                "\n",
                "name = input()\r\n",
                "print(name, \"- чемпион!\")"
            ],
            "metadata": {
                "azdata_cell_guid": "4ff10fe2-3013-476d-be43-c741439a6bb5",
                "language": "python"
            },
            "outputs": [
                {
                    "output_type": "stream",
                    "name": "stdout",
                    "text": "Барселона - чемпион!\n"
                }
            ],
            "execution_count": 3
        }
    ]
}