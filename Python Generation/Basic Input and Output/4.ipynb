{
    "metadata": {
        "kernelspec": {
            "name": "python3",
            "display_name": "Python 3 (ipykernel)",
            "language": "python"
        },
        "language_info": {
            "name": "python",
            "version": "3.9.12",
            "mimetype": "text/x-python",
            "codemirror_mode": {
                "name": "ipython",
                "version": 3
            },
            "pygments_lexer": "ipython3",
            "nbconvert_exporter": "python",
            "file_extension": ".py"
        }
    },
    "nbformat_minor": 2,
    "nbformat": 4,
    "cells": [
        {
            "cell_type": "code",
            "source": [
                "#Напишите программу, которая выводит указанный треугольник, состоящий из звездочек (*).\n",
                "\n",
                "print ('*')\r\n",
                "print ('**')\r\n",
                "print ('***')\r\n",
                "print ('****')\r\n",
                "print ('*****')\r\n",
                "print ('******')\r\n",
                "print ('*******')\r\n",
                ""
            ],
            "metadata": {
                "azdata_cell_guid": "1b5561f4-98cf-48ee-a2bf-bb47b3b3b4c4",
                "language": "python"
            },
            "outputs": [
{
    "name": "stdout",
    "text": "*\n**\n***\n****\n*****\n******\n*******\n",
    "output_type": "stream"
}
],
            "execution_count": 13
        }
    ]
}