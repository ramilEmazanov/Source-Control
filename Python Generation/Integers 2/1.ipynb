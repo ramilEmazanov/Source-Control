{
    "metadata": {
        "kernelspec": {
            "name": "python3",
            "display_name": "Python 3 (ipykernel)",
            "language": "python"
        },
        "language_info": {
            "name": "python",
            "version": "3.9.12",
            "mimetype": "text/x-python",
            "codemirror_mode": {
                "name": "ipython",
                "version": 3
            },
            "pygments_lexer": "ipython3",
            "nbconvert_exporter": "python",
            "file_extension": ".py"
        }
    },
    "nbformat_minor": 2,
    "nbformat": 4,
    "cells": [
        {
            "cell_type": "code",
            "source": [
                "b1 = int(input())\n",
                "q = int(input())\n",
                "n = int(input())\n",
                "n1 = b1 * q ** (n-1)\n",
                "print(n1)"
            ],
            "metadata": {
                "azdata_cell_guid": "a90e8e52-36d1-4473-97be-1d60e5dbeee8",
                "language": "python"
            },
            "outputs": [
{
    "name": "stdout",
    "text": "4\n",
    "output_type": "stream"
}
],
            "execution_count": 1
        }
    ]
}