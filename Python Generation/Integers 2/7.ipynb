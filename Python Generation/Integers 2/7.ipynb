{
    "metadata": {
        "kernelspec": {
            "name": "python3",
            "display_name": "Python 3 (ipykernel)",
            "language": "python"
        },
        "language_info": {
            "name": "python",
            "version": "3.9.12",
            "mimetype": "text/x-python",
            "codemirror_mode": {
                "name": "ipython",
                "version": 3
            },
            "pygments_lexer": "ipython3",
            "nbconvert_exporter": "python",
            "file_extension": ".py"
        }
    },
    "nbformat_minor": 2,
    "nbformat": 4,
    "cells": [
        {
            "cell_type": "code",
            "source": [
                "n = int(input())\r\n",
                "n1 = n // 100\r\n",
                "n2 = n // 10 % 10\r\n",
                "n3 = n % 10\r\n",
                "print(n1*100+n2*10+n3 , n1*100+n3*10+n2 , n2*100+n1*10+n3 , n2*100+n3*10+n1 , n3*100+n1*10+n2 , n3*100+n2*10+n1 , sep='\\n' )\r\n",
                "\r\n",
                "123\r\n",
                "132\r\n",
                "213\r\n",
                "231\r\n",
                "312\r\n",
                "321\r\n",
                ""
            ],
            "metadata": {
                "azdata_cell_guid": "986f3575-6e22-4d14-a5ca-6c0c2b700677",
                "language": "python"
            },
            "outputs": [
{
    "name": "stdout",
    "text": "123\n132\n213\n231\n312\n321\n",
    "output_type": "stream"
}, {
    "data": {
        "text/plain": "321"
    },
    "metadata": {},
    "execution_count": 29,
    "output_type": "execute_result"
}
],
            "execution_count": 29
        }
    ]
}