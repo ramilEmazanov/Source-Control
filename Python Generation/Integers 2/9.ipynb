{
    "metadata": {
        "kernelspec": {
            "name": "python3",
            "display_name": "Python 3 (ipykernel)",
            "language": "python"
        },
        "language_info": {
            "name": "python",
            "version": "3.9.12",
            "mimetype": "text/x-python",
            "codemirror_mode": {
                "name": "ipython",
                "version": 3
            },
            "pygments_lexer": "ipython3",
            "nbconvert_exporter": "python",
            "file_extension": ".py"
        }
    },
    "nbformat_minor": 2,
    "nbformat": 4,
    "cells": [
        {
            "cell_type": "code",
            "source": [
                "#Напишите программу для нахождения цифр четырёхзначного числа.\n",
                "\n",
                "n = int(input())\n",
                "n1 = n // 1000\n",
                "n2 = (n // 100) % 10\n",
                "n3 = (n//10) % 10\n",
                "n4 = n % 10\n",
                "print('Цифра в позиции тысяч равна' , n1)\n",
                "print('Цифра в позиции сотен равна' , n2)\n",
                "print('Цифра в позиции десятков равна' , n3)\n",
                "print('Цифра в позиции единиц равна' , n4)"
            ],
            "metadata": {
                "azdata_cell_guid": "0a94c1c3-876a-4086-ba32-329a197201d1",
                "language": "python"
            },
            "outputs": [
                {
                    "traceback": [
                        "\u001b[1;36m  Input \u001b[1;32mIn [11]\u001b[1;36m\u001b[0m\n\u001b[1;33m    print('I'm 16 and I'm from Northern Ireland.')\u001b[0m\n\u001b[1;37m             ^\u001b[0m\n\u001b[1;31mSyntaxError\u001b[0m\u001b[1;31m:\u001b[0m invalid syntax\n"
                    ],
                    "ename": "SyntaxError",
                    "evalue": "invalid syntax (1177496327.py, line 1)",
                    "output_type": "error"
                }
            ],
            "execution_count": 11
        }
    ]
}