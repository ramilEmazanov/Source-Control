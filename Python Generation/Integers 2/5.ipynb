{
    "metadata": {
        "kernelspec": {
            "name": "python3",
            "display_name": "Python 3 (ipykernel)",
            "language": "python"
        },
        "language_info": {
            "name": "python",
            "version": "3.9.12",
            "mimetype": "text/x-python",
            "codemirror_mode": {
                "name": "ipython",
                "version": 3
            },
            "pygments_lexer": "ipython3",
            "nbconvert_exporter": "python",
            "file_extension": ".py"
        }
    },
    "nbformat_minor": 2,
    "nbformat": 4,
    "cells": [
        {
            "cell_type": "code",
            "source": [
                "num = int(input())\r\n",
                "num2 = num // 4\r\n",
                "num3 = num % 4\r\n",
                "print(num)\r\n",
                "print(num2)\r\n",
                "print(num3)"
            ],
            "metadata": {
                "azdata_cell_guid": "83689adb-73c3-4414-8df5-a30b90a7702d",
                "language": "python"
            },
            "outputs": [],
            "execution_count": null
        },
        {
            "cell_type": "code",
            "source": [
                "num = int(input())\r\n",
                "num1 = num // -4\r\n",
                "print(num1*-1)"
            ],
            "metadata": {
                "azdata_cell_guid": "c4d9ba8e-432c-4679-9264-8558e6e22d1e",
                "language": "python"
            },
            "outputs": [
{
    "name": "stdout",
    "text": "9\n",
    "output_type": "stream"
}
],
            "execution_count": 35
        },
        {
            "cell_type": "code",
            "source": [
                "num = int(input())\r\n",
                "num2 = num // 4\r\n",
                "num3 = num % 4\r\n",
                "print(num)\r\n",
                "print(num2)\r\n",
                "print(num3)"
            ],
            "metadata": {
                "azdata_cell_guid": "98ce3b96-cac5-4ac4-918c-4e8fb8f3abba",
                "language": "python"
            },
            "outputs": [
                {
                    "name": "stdout",
                    "text": "36\n9\n0\n",
                    "output_type": "stream"
                }
            ],
            "execution_count": 22
        }
    ]
}