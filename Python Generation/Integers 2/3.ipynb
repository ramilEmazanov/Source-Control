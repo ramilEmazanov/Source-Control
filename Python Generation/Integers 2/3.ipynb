{
    "metadata": {
        "kernelspec": {
            "name": "python3",
            "display_name": "Python 3 (ipykernel)",
            "language": "python"
        },
        "language_info": {
            "name": "python",
            "version": "3.9.12",
            "mimetype": "text/x-python",
            "codemirror_mode": {
                "name": "ipython",
                "version": 3
            },
            "pygments_lexer": "ipython3",
            "nbconvert_exporter": "python",
            "file_extension": ".py"
        }
    },
    "nbformat_minor": 2,
    "nbformat": 4,
    "cells": [
        {
            "cell_type": "code",
            "source": [
                "k = int(input())\n",
                "n = int(input())\n",
                "celoe = n // k\n",
                "ostatok = n % k\n",
                "print(celoe)\n",
                "print(ostatok)"
            ],
            "metadata": {
                "azdata_cell_guid": "d9b395ab-f763-4594-b9b1-1f5d6cc4d244",
                "language": "python"
            },
            "outputs": [],
            "execution_count": null
        }
    ]
}