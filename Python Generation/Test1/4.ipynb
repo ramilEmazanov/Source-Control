{
    "metadata": {
        "kernelspec": {
            "name": "python3",
            "display_name": "Python 3 (ipykernel)",
            "language": "python"
        },
        "language_info": {
            "name": "python",
            "version": "3.9.12",
            "mimetype": "text/x-python",
            "codemirror_mode": {
                "name": "ipython",
                "version": 3
            },
            "pygments_lexer": "ipython3",
            "nbconvert_exporter": "python",
            "file_extension": ".py"
        }
    },
    "nbformat_minor": 2,
    "nbformat": 4,
    "cells": [
        {
            "cell_type": "code",
            "source": [
                "n = int(input())\r\n",
                "print(n+n*10+n+n*100+n*10+n)"
            ],
            "metadata": {
                "azdata_cell_guid": "e419711d-e04d-43de-a426-50b029917e54",
                "language": "python"
            },
            "outputs": [
{
    "name": "stdout",
    "text": "123\n",
    "output_type": "stream"
}
],
            "execution_count": 2
        }
    ]
}