{
    "metadata": {
        "kernelspec": {
            "name": "python3",
            "display_name": "Python 3 (ipykernel)",
            "language": "python"
        },
        "language_info": {
            "name": "python",
            "version": "3.9.12",
            "mimetype": "text/x-python",
            "codemirror_mode": {
                "name": "ipython",
                "version": 3
            },
            "pygments_lexer": "ipython3",
            "nbconvert_exporter": "python",
            "file_extension": ".py"
        }
    },
    "nbformat_minor": 2,
    "nbformat": 4,
    "cells": [
        {
            "cell_type": "code",
            "source": [
                "print('*****************')\r\n",
                "print('*               *')\r\n",
                "print('*               *')\r\n",
                "print('*****************')\r\n",
                ""
            ],
            "metadata": {
                "azdata_cell_guid": "f8168b03-2caa-47ab-abd5-791e1b033175",
                "language": "python"
            },
            "outputs": [
{
    "name": "stdout",
    "text": "*****************\n**             **\n**             **\n*****************\n",
    "output_type": "stream"
}
],
            "execution_count": 1
        }
    ]
}