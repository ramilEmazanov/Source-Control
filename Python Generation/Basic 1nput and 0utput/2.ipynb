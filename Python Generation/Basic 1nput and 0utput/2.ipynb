{
    "metadata": {
        "kernelspec": {
            "name": "python3",
            "display_name": "Python 3 (ipykernel)",
            "language": "python"
        },
        "language_info": {
            "name": "python",
            "version": "3.9.12",
            "mimetype": "text/x-python",
            "codemirror_mode": {
                "name": "ipython",
                "version": 3
            },
            "pygments_lexer": "ipython3",
            "nbconvert_exporter": "python",
            "file_extension": ".py"
        }
    },
    "nbformat_minor": 2,
    "nbformat": 4,
    "cells": [
        {
            "cell_type": "code",
            "source": [
                "print ('4','8','15','16','23','42')"
            ],
            "metadata": {
                "azdata_cell_guid": "ba2ec019-d105-4130-b3b9-7a0f4ce7ba74",
                "language": "python"
            },
            "outputs": [
{
    "name": "stdout",
    "text": "4 8 15 16 23 42\n",
    "output_type": "stream"
}
],
            "execution_count": 4
        }
    ]
}