{
    "metadata": {
        "kernelspec": {
            "name": "python3",
            "display_name": "Python 3 (ipykernel)",
            "language": "python"
        },
        "language_info": {
            "name": "python",
            "version": "3.9.12",
            "mimetype": "text/x-python",
            "codemirror_mode": {
                "name": "ipython",
                "version": 3
            },
            "pygments_lexer": "ipython3",
            "nbconvert_exporter": "python",
            "file_extension": ".py"
        }
    },
    "nbformat_minor": 2,
    "nbformat": 4,
    "cells": [
        {
            "cell_type": "code",
            "source": [
                "print('Hello World')"
            ],
            "metadata": {
                "azdata_cell_guid": "298a4c10-d584-4d56-b974-5be490d0ea1f",
                "language": "python"
            },
            "outputs": [
                {
                    "name": "stdout",
                    "text": "Hello World\n",
                    "output_type": "stream"
                }
            ],
            "execution_count": 1
        }
    ]
}