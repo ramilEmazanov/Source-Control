{
    "metadata": {
        "kernelspec": {
            "name": "python3",
            "display_name": "Python 3 (ipykernel)",
            "language": "python"
        },
        "language_info": {
            "name": "python",
            "version": "3.9.12",
            "mimetype": "text/x-python",
            "codemirror_mode": {
                "name": "ipython",
                "version": 3
            },
            "pygments_lexer": "ipython3",
            "nbconvert_exporter": "python",
            "file_extension": ".py"
        }
    },
    "nbformat_minor": 2,
    "nbformat": 4,
    "cells": [
        {
            "cell_type": "code",
            "source": [
                "print (\"fsd\")"
            ],
            "metadata": {
                "azdata_cell_guid": "02b0d2ae-1e0f-4a58-bbb7-4a8e458f57b7",
                "language": "python"
            },
            "outputs": [
                {
                    "name": "stdout",
                    "text": "fsd\n",
                    "output_type": "stream"
                }
            ],
            "execution_count": 1
        }
    ]
}